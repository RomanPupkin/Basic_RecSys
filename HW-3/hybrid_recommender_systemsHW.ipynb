{
 "cells": [
  {
   "cell_type": "markdown",
   "metadata": {
    "id": "0PCgnqaRMFYH"
   },
   "source": [
    "\n",
    "## Гибридные рекомендательные системы с Surprise: взвешенный подход\n",
    "\n",
    "Дедлайн 1: 18 октября. Дедлайн 2 (максимальная оценка - 1 балл) 25 октября\n",
    "\n",
    "### Мы используем Suprise (пакет sci-kit для рекомендательных систем), чтобы гарантировать, что рекомендательные системы, которые мы используем, оптимизированы, чтобы когда мы объединили их - не беспокоились о недостатках, возникающих в отдельной реализации. "
   ]
  },
  {
   "cell_type": "code",
   "execution_count": 1,
   "metadata": {
    "colab": {
     "base_uri": "https://localhost:8080/"
    },
    "id": "nHDssbeOMhWW",
    "outputId": "55bbeabd-b716-4121-9a8c-287c5fe3687e"
   },
   "outputs": [
    {
     "name": "stdout",
     "output_type": "stream",
     "text": [
      "Looking in indexes: https://pypi.org/simple, https://us-python.pkg.dev/colab-wheels/public/simple/\n",
      "Collecting scikit-surprise\n",
      "  Downloading scikit-surprise-1.1.1.tar.gz (11.8 MB)\n",
      "\u001b[K     |████████████████████████████████| 11.8 MB 6.7 MB/s \n",
      "\u001b[?25hRequirement already satisfied: joblib>=0.11 in /usr/local/lib/python3.7/dist-packages (from scikit-surprise) (1.2.0)\n",
      "Requirement already satisfied: numpy>=1.11.2 in /usr/local/lib/python3.7/dist-packages (from scikit-surprise) (1.21.6)\n",
      "Requirement already satisfied: scipy>=1.0.0 in /usr/local/lib/python3.7/dist-packages (from scikit-surprise) (1.7.3)\n",
      "Requirement already satisfied: six>=1.10.0 in /usr/local/lib/python3.7/dist-packages (from scikit-surprise) (1.15.0)\n",
      "Building wheels for collected packages: scikit-surprise\n",
      "  Building wheel for scikit-surprise (setup.py) ... \u001b[?25l\u001b[?25hdone\n",
      "  Created wheel for scikit-surprise: filename=scikit_surprise-1.1.1-cp37-cp37m-linux_x86_64.whl size=1633975 sha256=1b013c392665570c359747b530540c72c160eade4fd9addc2d45659a16f2e5f1\n",
      "  Stored in directory: /root/.cache/pip/wheels/76/44/74/b498c42be47b2406bd27994e16c5188e337c657025ab400c1c\n",
      "Successfully built scikit-surprise\n",
      "Installing collected packages: scikit-surprise\n",
      "Successfully installed scikit-surprise-1.1.1\n"
     ]
    }
   ],
   "source": [
    "!pip install scikit-surprise"
   ]
  },
  {
   "cell_type": "code",
   "execution_count": 2,
   "metadata": {
    "_cell_guid": "b1076dfc-b9ad-4769-8c92-a6c4dae69d19",
    "_uuid": "8f2839f25d086af736a60e9eeb907d3b93b6e0e5",
    "id": "dXFpCaZbMFYT"
   },
   "outputs": [],
   "source": [
    "import surprise\n",
    "import numpy as np \n",
    "import pandas as pd \n",
    "from sklearn.model_selection import train_test_split\n",
    "import os"
   ]
  },
  {
   "cell_type": "markdown",
   "metadata": {
    "id": "IzlKhxfiMFYV"
   },
   "source": [
    "Во-первых, давайте прочитаем и очистим набор данных, чтобы мы знали, с чем работаем.\n",
    "1. Считайте pandas датафрейм ratings.csv\n",
    "2. Удалите дублированные строки\n",
    "3. Сколько уникальных книг и пользователей в датасете?\n",
    "4. В каком интервале рейтинг?"
   ]
  },
  {
   "cell_type": "code",
   "execution_count": 3,
   "metadata": {
    "colab": {
     "base_uri": "https://localhost:8080/",
     "height": 206
    },
    "id": "EB-SlxV0MFYX",
    "outputId": "392cb454-924d-46f7-fd48-37ef3a8a884f"
   },
   "outputs": [
    {
     "data": {
      "text/html": [
       "\n",
       "  <div id=\"df-959ebaa6-56c2-49da-bc3a-267f108d6bee\">\n",
       "    <div class=\"colab-df-container\">\n",
       "      <div>\n",
       "<style scoped>\n",
       "    .dataframe tbody tr th:only-of-type {\n",
       "        vertical-align: middle;\n",
       "    }\n",
       "\n",
       "    .dataframe tbody tr th {\n",
       "        vertical-align: top;\n",
       "    }\n",
       "\n",
       "    .dataframe thead th {\n",
       "        text-align: right;\n",
       "    }\n",
       "</style>\n",
       "<table border=\"1\" class=\"dataframe\">\n",
       "  <thead>\n",
       "    <tr style=\"text-align: right;\">\n",
       "      <th></th>\n",
       "      <th>book_id</th>\n",
       "      <th>user_id</th>\n",
       "      <th>rating</th>\n",
       "    </tr>\n",
       "  </thead>\n",
       "  <tbody>\n",
       "    <tr>\n",
       "      <th>0</th>\n",
       "      <td>1</td>\n",
       "      <td>314</td>\n",
       "      <td>5</td>\n",
       "    </tr>\n",
       "    <tr>\n",
       "      <th>1</th>\n",
       "      <td>1</td>\n",
       "      <td>439</td>\n",
       "      <td>3</td>\n",
       "    </tr>\n",
       "    <tr>\n",
       "      <th>2</th>\n",
       "      <td>1</td>\n",
       "      <td>588</td>\n",
       "      <td>5</td>\n",
       "    </tr>\n",
       "    <tr>\n",
       "      <th>3</th>\n",
       "      <td>1</td>\n",
       "      <td>1169</td>\n",
       "      <td>4</td>\n",
       "    </tr>\n",
       "    <tr>\n",
       "      <th>4</th>\n",
       "      <td>1</td>\n",
       "      <td>1185</td>\n",
       "      <td>4</td>\n",
       "    </tr>\n",
       "  </tbody>\n",
       "</table>\n",
       "</div>\n",
       "      <button class=\"colab-df-convert\" onclick=\"convertToInteractive('df-959ebaa6-56c2-49da-bc3a-267f108d6bee')\"\n",
       "              title=\"Convert this dataframe to an interactive table.\"\n",
       "              style=\"display:none;\">\n",
       "        \n",
       "  <svg xmlns=\"http://www.w3.org/2000/svg\" height=\"24px\"viewBox=\"0 0 24 24\"\n",
       "       width=\"24px\">\n",
       "    <path d=\"M0 0h24v24H0V0z\" fill=\"none\"/>\n",
       "    <path d=\"M18.56 5.44l.94 2.06.94-2.06 2.06-.94-2.06-.94-.94-2.06-.94 2.06-2.06.94zm-11 1L8.5 8.5l.94-2.06 2.06-.94-2.06-.94L8.5 2.5l-.94 2.06-2.06.94zm10 10l.94 2.06.94-2.06 2.06-.94-2.06-.94-.94-2.06-.94 2.06-2.06.94z\"/><path d=\"M17.41 7.96l-1.37-1.37c-.4-.4-.92-.59-1.43-.59-.52 0-1.04.2-1.43.59L10.3 9.45l-7.72 7.72c-.78.78-.78 2.05 0 2.83L4 21.41c.39.39.9.59 1.41.59.51 0 1.02-.2 1.41-.59l7.78-7.78 2.81-2.81c.8-.78.8-2.07 0-2.86zM5.41 20L4 18.59l7.72-7.72 1.47 1.35L5.41 20z\"/>\n",
       "  </svg>\n",
       "      </button>\n",
       "      \n",
       "  <style>\n",
       "    .colab-df-container {\n",
       "      display:flex;\n",
       "      flex-wrap:wrap;\n",
       "      gap: 12px;\n",
       "    }\n",
       "\n",
       "    .colab-df-convert {\n",
       "      background-color: #E8F0FE;\n",
       "      border: none;\n",
       "      border-radius: 50%;\n",
       "      cursor: pointer;\n",
       "      display: none;\n",
       "      fill: #1967D2;\n",
       "      height: 32px;\n",
       "      padding: 0 0 0 0;\n",
       "      width: 32px;\n",
       "    }\n",
       "\n",
       "    .colab-df-convert:hover {\n",
       "      background-color: #E2EBFA;\n",
       "      box-shadow: 0px 1px 2px rgba(60, 64, 67, 0.3), 0px 1px 3px 1px rgba(60, 64, 67, 0.15);\n",
       "      fill: #174EA6;\n",
       "    }\n",
       "\n",
       "    [theme=dark] .colab-df-convert {\n",
       "      background-color: #3B4455;\n",
       "      fill: #D2E3FC;\n",
       "    }\n",
       "\n",
       "    [theme=dark] .colab-df-convert:hover {\n",
       "      background-color: #434B5C;\n",
       "      box-shadow: 0px 1px 3px 1px rgba(0, 0, 0, 0.15);\n",
       "      filter: drop-shadow(0px 1px 2px rgba(0, 0, 0, 0.3));\n",
       "      fill: #FFFFFF;\n",
       "    }\n",
       "  </style>\n",
       "\n",
       "      <script>\n",
       "        const buttonEl =\n",
       "          document.querySelector('#df-959ebaa6-56c2-49da-bc3a-267f108d6bee button.colab-df-convert');\n",
       "        buttonEl.style.display =\n",
       "          google.colab.kernel.accessAllowed ? 'block' : 'none';\n",
       "\n",
       "        async function convertToInteractive(key) {\n",
       "          const element = document.querySelector('#df-959ebaa6-56c2-49da-bc3a-267f108d6bee');\n",
       "          const dataTable =\n",
       "            await google.colab.kernel.invokeFunction('convertToInteractive',\n",
       "                                                     [key], {});\n",
       "          if (!dataTable) return;\n",
       "\n",
       "          const docLinkHtml = 'Like what you see? Visit the ' +\n",
       "            '<a target=\"_blank\" href=https://colab.research.google.com/notebooks/data_table.ipynb>data table notebook</a>'\n",
       "            + ' to learn more about interactive tables.';\n",
       "          element.innerHTML = '';\n",
       "          dataTable['output_type'] = 'display_data';\n",
       "          await google.colab.output.renderOutput(dataTable, element);\n",
       "          const docLink = document.createElement('div');\n",
       "          docLink.innerHTML = docLinkHtml;\n",
       "          element.appendChild(docLink);\n",
       "        }\n",
       "      </script>\n",
       "    </div>\n",
       "  </div>\n",
       "  "
      ],
      "text/plain": [
       "   book_id  user_id  rating\n",
       "0        1      314       5\n",
       "1        1      439       3\n",
       "2        1      588       5\n",
       "3        1     1169       4\n",
       "4        1     1185       4"
      ]
     },
     "execution_count": 3,
     "metadata": {},
     "output_type": "execute_result"
    }
   ],
   "source": [
    "raw = pd.read_csv('input_goodreads/ratings.csv')\n",
    "raw.head()"
   ]
  },
  {
   "cell_type": "code",
   "execution_count": 4,
   "metadata": {
    "colab": {
     "base_uri": "https://localhost:8080/"
    },
    "id": "H5wc8T0_MFYZ",
    "outputId": "2f4ed62f-b81c-409c-bbbb-211208162c3a"
   },
   "outputs": [
    {
     "name": "stdout",
     "output_type": "stream",
     "text": [
      "Rows with duplicates: 981756\n",
      "Rows without duplicates: 980112\n",
      "Rating interval: [ 1 , 5 ]\n"
     ]
    },
    {
     "data": {
      "text/plain": [
       "book_id    10000\n",
       "user_id    53424\n",
       "rating         5\n",
       "dtype: int64"
      ]
     },
     "execution_count": 4,
     "metadata": {},
     "output_type": "execute_result"
    }
   ],
   "source": [
    "print(\"Rows with duplicates:\", raw.shape[0])\n",
    "raw = raw.drop_duplicates()\n",
    "print(\"Rows without duplicates:\", raw.shape[0])\n",
    "print(\"Rating interval: [\", raw['rating'].min(), \",\", raw['rating'].max(), \"]\")\n",
    "raw.nunique()"
   ]
  },
  {
   "cell_type": "markdown",
   "metadata": {
    "id": "mA4XbpPNMFYb"
   },
   "source": [
    "Всякий раз, когда вы загружаете набор данных в Surprise, вы можете использовать их класс Reader набора данных, который облегчает большую часть проблем. Вы можете указать множество форматов файлов, но для фреймов данных pandas, которые мы используем, вы можете указать некоторые параметры для рейтинга (rating_scale) и датафрейма."
   ]
  },
  {
   "cell_type": "code",
   "execution_count": 5,
   "metadata": {
    "id": "i0EAEuU3MFYc"
   },
   "outputs": [],
   "source": [
    "from surprise.dataset import DatasetAutoFolds "
   ]
  },
  {
   "cell_type": "code",
   "execution_count": 6,
   "metadata": {
    "id": "Uz9XHpgAMFYd"
   },
   "outputs": [],
   "source": [
    "#порядок колонок должен быть таким\n",
    "raw = raw[['user_id','book_id','rating']] \n",
    "raw.columns = ['n_users','n_items','rating']\n",
    "\n",
    "# укажем scale для рейтинга\n",
    "reader = surprise.Reader(rating_scale=(1,5)) \n",
    "\n",
    "# разделите на основную и отложенную выборки в соотножении 3:1\n",
    "# и загрузите в surprise dataset:\n",
    "#  -- TODO -- \n",
    "rawTrain,rawholdout = train_test_split(raw, test_size = 0.25) #None, None\n",
    "data = surprise.Dataset.load_from_df(rawTrain, reader)\n",
    "holdout = surprise.Dataset.load_from_df(rawholdout, reader)"
   ]
  },
  {
   "cell_type": "markdown",
   "metadata": {
    "id": "AcTq3GSeMFYe"
   },
   "source": [
    "\n",
    "### Во-первых, выберем несколько алгоритмов для включения в наш ансамбль. Это будут\n",
    "1. KNN совместная фильтрация \n",
    "2. Матричная факторизация\n",
    "3. Совместная фильтрация с кластеризацией\n",
    "4. Совместная фильтрация на основе алгоритма Slope One. (http://wiki-org.ru/wiki/Slope_One)"
   ]
  },
  {
   "cell_type": "markdown",
   "metadata": {
    "id": "FsVapQpdMFYf"
   },
   "source": [
    "## KNN колаборативная фильтрация:"
   ]
  },
  {
   "cell_type": "code",
   "execution_count": 7,
   "metadata": {
    "id": "kJV8woghMFYg"
   },
   "outputs": [],
   "source": [
    "kSplit = surprise.model_selection.split.KFold(n_splits=10, shuffle=True) # разбиваем данные на фолды"
   ]
  },
  {
   "cell_type": "markdown",
   "metadata": {
    "id": "zOAC8JwFMFYh"
   },
   "source": [
    "Задайте параметр sim_options на основании косинусной меры, и с подходом user-based ('user_based': False)"
   ]
  },
  {
   "cell_type": "code",
   "execution_count": 8,
   "metadata": {
    "id": "AhBuOwrPMFYh"
   },
   "outputs": [],
   "source": [
    "sim_options = {\n",
    "    \"name\": \"cosine\",\n",
    "    \"user_based\": False,\n",
    "}\n",
    "collabKNN = surprise.KNNBasic(k=40,sim_options=sim_options)"
   ]
  },
  {
   "cell_type": "markdown",
   "metadata": {
    "id": "D0WKhpGsMFYi"
   },
   "source": [
    "Обучите модель, предскажите значение на test выборке и запишите значение метрики на каждом фолде"
   ]
  },
  {
   "cell_type": "code",
   "execution_count": 9,
   "metadata": {
    "colab": {
     "base_uri": "https://localhost:8080/"
    },
    "id": "CAV1oUYvMFYj",
    "outputId": "60664b97-c16c-40fa-ea49-3b0167718a90"
   },
   "outputs": [
    {
     "name": "stdout",
     "output_type": "stream",
     "text": [
      "Computing the cosine similarity matrix...\n",
      "Done computing similarity matrix.\n",
      "RMSE: 0.8981\n",
      "Computing the cosine similarity matrix...\n",
      "Done computing similarity matrix.\n",
      "RMSE: 0.8966\n",
      "Computing the cosine similarity matrix...\n",
      "Done computing similarity matrix.\n",
      "RMSE: 0.9008\n",
      "Computing the cosine similarity matrix...\n",
      "Done computing similarity matrix.\n",
      "RMSE: 0.8949\n",
      "Computing the cosine similarity matrix...\n",
      "Done computing similarity matrix.\n",
      "RMSE: 0.8915\n",
      "Computing the cosine similarity matrix...\n",
      "Done computing similarity matrix.\n",
      "RMSE: 0.8987\n",
      "Computing the cosine similarity matrix...\n",
      "Done computing similarity matrix.\n",
      "RMSE: 0.8991\n",
      "Computing the cosine similarity matrix...\n",
      "Done computing similarity matrix.\n",
      "RMSE: 0.9038\n",
      "Computing the cosine similarity matrix...\n",
      "Done computing similarity matrix.\n",
      "RMSE: 0.8981\n",
      "Computing the cosine similarity matrix...\n",
      "Done computing similarity matrix.\n",
      "RMSE: 0.8953\n",
      "[0.8980699624009123, 0.896604192965681, 0.9007809849644528, 0.8948636423732385, 0.8915239446115325, 0.8986534481516807, 0.8991158533147756, 0.9037866871799755, 0.8980833537583948, 0.8953401001976081]\n"
     ]
    }
   ],
   "source": [
    "rmseKNN = []\n",
    "# -- TODO --\n",
    "for trainset, testset in kSplit.split(data): #проходимся по фолдам\n",
    "    collabKNN.fit(trainset)\n",
    "    rmseKNN.append(surprise.accuracy.rmse(collabKNN.test(testset)))\n",
    "    \n",
    "print(rmseKNN)"
   ]
  },
  {
   "cell_type": "markdown",
   "metadata": {
    "id": "YEas4WrgMFYk"
   },
   "source": [
    "### Вы можете пробовать разные гиперпараметры, используя Suprise Grid Search CV, чтобы найти наилучшие возможные гиперпараметры."
   ]
  },
  {
   "cell_type": "markdown",
   "metadata": {
    "id": "vTzP5xBkMFYl"
   },
   "source": [
    "\n",
    "### Обучим наш алгоритм матричной факторизации с 30 скрытыми факторами (n_factors=30)\n"
   ]
  },
  {
   "cell_type": "code",
   "execution_count": 10,
   "metadata": {
    "id": "VtFFV1maMFYl"
   },
   "outputs": [],
   "source": [
    "funkSVD = surprise.prediction_algorithms.matrix_factorization.SVD(n_factors=30,n_epochs=10,biased=True)"
   ]
  },
  {
   "cell_type": "markdown",
   "metadata": {
    "id": "LhpyOicoMFYm"
   },
   "source": [
    "Обучите модель, предскажите значение на test выборке и запишите значение метрики на каждом фолде"
   ]
  },
  {
   "cell_type": "code",
   "execution_count": 11,
   "metadata": {
    "colab": {
     "base_uri": "https://localhost:8080/"
    },
    "id": "stFEBf1hMFYn",
    "outputId": "1dbb75bc-3029-4860-a7ed-74d205b4ec4e"
   },
   "outputs": [
    {
     "name": "stdout",
     "output_type": "stream",
     "text": [
      "RMSE: 0.8506\n",
      "RMSE: 0.8532\n",
      "RMSE: 0.8498\n",
      "RMSE: 0.8531\n",
      "RMSE: 0.8507\n",
      "RMSE: 0.8504\n",
      "RMSE: 0.8537\n",
      "RMSE: 0.8488\n",
      "RMSE: 0.8517\n",
      "RMSE: 0.8518\n",
      "[0.8505917184080828, 0.8531885935761233, 0.849792030120394, 0.8531264896715884, 0.8507239138165199, 0.8504490179679823, 0.8536720665743651, 0.8487995724560458, 0.8516833148259162, 0.8517563367396468]\n"
     ]
    }
   ],
   "source": [
    "rmseSVD = []\n",
    "for trainset, testset in kSplit.split(data): #проходимся по фолдам\n",
    "    funkSVD.fit(trainset)\n",
    "    rmseSVD.append(surprise.accuracy.rmse(funkSVD.test(testset)))\n",
    "print(rmseSVD)"
   ]
  },
  {
   "cell_type": "markdown",
   "metadata": {
    "id": "eVs8XFvAMFYo"
   },
   "source": [
    "## Колаборативная фильтрация с кластеризацией"
   ]
  },
  {
   "cell_type": "markdown",
   "metadata": {
    "id": "8ZJiYHzZMFYo"
   },
   "source": [
    "\n",
    "Теперь используем совместную фильтрацию с кластеризацией.\n",
    "Совместная кластеризация - это объединение пользователей и элементов в кластеры с использованием методов кластеризации. Выделите три кластера. Чтобы получить прогнозируемый рейтинг, вам нужно будет суммировать три вещи:\n",
    "     1. Вы находите кластер для указанного рейтинга пользователя u и элемента i и определяете среднее значение этого кластера. Итак, вы найдете среднее значение кластера u_i.\n",
    "     2. Найдите среднее значение кластера элемента i и вычтите его из среднего рейтинга этого элемента.\n",
    "     3. Найдите среднее значение кластера пользователя u и вычтите его из среднего рейтинга этого пользователя.\n",
    "    \n",
    "Вы обнаружите, что для большинства из них RSME остается неизменным для всех K-фолдов."
   ]
  },
  {
   "cell_type": "markdown",
   "metadata": {
    "id": "0LXApU_VMFYp"
   },
   "source": [
    "Обучите модель, предскажите значение на test выборке и запишите значение метрики на каждом фолде"
   ]
  },
  {
   "cell_type": "code",
   "execution_count": 12,
   "metadata": {
    "colab": {
     "base_uri": "https://localhost:8080/"
    },
    "id": "Y0slaBeKMFYq",
    "outputId": "fa3ba581-dad8-4450-e0ae-90e85fe35c03"
   },
   "outputs": [
    {
     "name": "stderr",
     "output_type": "stream",
     "text": [
      "/usr/local/lib/python3.7/dist-packages/ipykernel_launcher.py:4: DeprecationWarning: `np.int` is a deprecated alias for the builtin `int`. To silence this warning, use `int` by itself. Doing this will not modify any behavior and is safe. When replacing `np.int`, you may wish to use e.g. `np.int64` or `np.int32` to specify the precision. If you wish to review your current use, check the release note link for additional information.\n",
      "Deprecated in NumPy 1.20; for more details and guidance: https://numpy.org/devdocs/release/1.20.0-notes.html#deprecations\n",
      "  after removing the cwd from sys.path.\n"
     ]
    },
    {
     "name": "stdout",
     "output_type": "stream",
     "text": [
      "RMSE: 0.8863\n",
      "RMSE: 0.8872\n",
      "RMSE: 0.8849\n",
      "RMSE: 0.8855\n",
      "RMSE: 0.8857\n",
      "RMSE: 0.8914\n",
      "RMSE: 0.8860\n",
      "RMSE: 0.8884\n",
      "RMSE: 0.8905\n",
      "RMSE: 0.8849\n",
      "[0.8863251473577477, 0.8871693224713068, 0.8848800710661723, 0.8855178879859296, 0.8856882076469745, 0.8914262725446368, 0.8859955373745169, 0.8883717247846221, 0.8905489913800987, 0.8849471309899728]\n"
     ]
    }
   ],
   "source": [
    "coClus = surprise.prediction_algorithms.co_clustering.CoClustering(n_cltr_u=4,n_cltr_i=4,n_epochs=25) \n",
    "rmseCo = []\n",
    "for trainset, testset in kSplit.split(data): #проходимся по фолдам\n",
    "    coClus.fit(trainset)\n",
    "    rmseCo.append(surprise.accuracy.rmse(coClus.test(testset)))\n",
    "print(rmseCo)"
   ]
  },
  {
   "cell_type": "markdown",
   "metadata": {
    "id": "AvjCS5cHMFYr"
   },
   "source": [
    "## Slope One"
   ]
  },
  {
   "cell_type": "markdown",
   "metadata": {
    "id": "jLWpJzoZMFYr"
   },
   "source": [
    "Обучая нашу последнюю модель, мы будем использовать алгоритм совместной фильтрации Slope One. Этот алгоритм вычисляет наклон (slope) каждого из релевантных элементов, оцененных пользователем, находит разницу, а затем вычисляет прогноз. Это грубый инструмент, но это хорошая эвристика, которая может улучшить наш метод ансамбля. Подробнее читайте здесь: https://arxiv.org/abs/cs/0702144."
   ]
  },
  {
   "cell_type": "markdown",
   "metadata": {
    "id": "yncy1z6QMFYr"
   },
   "source": [
    "Обучите модель, предскажите значение на test выборке и запишите значение метрики на каждом фолде"
   ]
  },
  {
   "cell_type": "code",
   "execution_count": 13,
   "metadata": {
    "id": "yM5gGfyvMFYr"
   },
   "outputs": [],
   "source": [
    "slopeOne = surprise.prediction_algorithms.slope_one.SlopeOne()"
   ]
  },
  {
   "cell_type": "code",
   "execution_count": 14,
   "metadata": {
    "colab": {
     "base_uri": "https://localhost:8080/"
    },
    "id": "ts37VUa1MFYs",
    "outputId": "3e59ea50-522b-49c8-857a-d42380ff7514"
   },
   "outputs": [
    {
     "name": "stderr",
     "output_type": "stream",
     "text": [
      "/usr/local/lib/python3.7/dist-packages/ipykernel_launcher.py:3: DeprecationWarning: `np.int` is a deprecated alias for the builtin `int`. To silence this warning, use `int` by itself. Doing this will not modify any behavior and is safe. When replacing `np.int`, you may wish to use e.g. `np.int64` or `np.int32` to specify the precision. If you wish to review your current use, check the release note link for additional information.\n",
      "Deprecated in NumPy 1.20; for more details and guidance: https://numpy.org/devdocs/release/1.20.0-notes.html#deprecations\n",
      "  This is separate from the ipykernel package so we can avoid doing imports until\n"
     ]
    },
    {
     "name": "stdout",
     "output_type": "stream",
     "text": [
      "RMSE: 0.9271\n",
      "RMSE: 0.9272\n",
      "RMSE: 0.9255\n",
      "RMSE: 0.9205\n",
      "RMSE: 0.9260\n",
      "RMSE: 0.9213\n",
      "RMSE: 0.9316\n",
      "RMSE: 0.9252\n",
      "RMSE: 0.9249\n",
      "RMSE: 0.9252\n",
      "[0.9270557976045772, 0.9272301498477534, 0.9254557097896967, 0.9205096817452388, 0.9260060992663632, 0.921340802519832, 0.931554964192207, 0.9252337363039143, 0.9249368868906479, 0.9251574237766738]\n"
     ]
    }
   ],
   "source": [
    "rmseSlope = []\n",
    "for trainset, testset in kSplit.split(data): \n",
    "    slopeOne.fit(trainset)\n",
    "    rmseSlope.append(surprise.accuracy.rmse(slopeOne.test(testset)))\n",
    "print(rmseSlope)"
   ]
  },
  {
   "cell_type": "markdown",
   "metadata": {
    "id": "T2NBnY1GMFYs"
   },
   "source": [
    "Теперь у нас есть четыре рекомендательные системы, из которых мы хотим сделать ансамбль. Сначала давайте построим график каждого из них, чтобы увидеть, как они работают.\n",
    "\n",
    "Затем реализуем описанный алгоритм Ensemble для гибридного подхода."
   ]
  },
  {
   "cell_type": "code",
   "execution_count": 15,
   "metadata": {
    "colab": {
     "base_uri": "https://localhost:8080/",
     "height": 296
    },
    "id": "iC7Msy1qMFYt",
    "outputId": "b8c0bf4d-861f-4375-9b72-082475b9479d"
   },
   "outputs": [
    {
     "data": {
      "text/plain": [
       "<matplotlib.legend.Legend at 0x7f0010fe4650>"
      ]
     },
     "execution_count": 15,
     "metadata": {},
     "output_type": "execute_result"
    },
    {
     "data": {
      "image/png": "[encoded data removed]",
      "text/plain": [
       "<Figure size 432x288 with 1 Axes>"
      ]
     },
     "metadata": {
      "needs_background": "light"
     },
     "output_type": "display_data"
    }
   ],
   "source": [
    "#Отобразим предсказания:\n",
    "import matplotlib.pyplot as plt\n",
    "modelPrediction = plt.plot(rmseKNN,label='knn')\n",
    "modelPrediction = plt.plot(rmseSVD,label='svd')\n",
    "modelPrediction = plt.plot(rmseCo,label='cluster')\n",
    "modelPrediction = plt.plot(rmseSlope,label='slope')\n",
    "\n",
    "modelPrediction = plt.xlabel('folds')\n",
    "modelPrediction = plt.ylabel('rmse')\n",
    "plt.legend(bbox_to_anchor=(1.05, 1), loc=2, borderaxespad=0.)"
   ]
  },
  {
   "cell_type": "markdown",
   "metadata": {
    "id": "1AqJCD3IMFYt"
   },
   "source": [
    "Похоже, что svd превосходит остальные. Попробуем гибридизировать модели, чтобы получить лучшие части каждой модели. Для этого мы собираемся использовать Suprise, чтобы создать новый алгоритм, и сделать так, чтобы он превосходил остальные."
   ]
  },
  {
   "cell_type": "markdown",
   "metadata": {
    "id": "VuwsLQrzMFYu"
   },
   "source": [
    "\n",
    "# На псевдокоде наш алгоритм выглядит следующим образом:\n",
    "1. Мы запускаем несколько рекомендательных систем для набора данных.\n",
    "2. Инициализируем взвешенную переменную alpha равную 1 / q, где q - количество используемых нами рекомендательных систем.\n",
    "3. Итоговый рейтинг будем считать как сумму взвещаных прогнозируемых рейтингов.\n",
    "4. Используя градиентный спуск, оптимизируем альфа-член по пространству параметров, чтобы иметь возможность придать наибольший вес модели, которая может представлять лучший прогноз."
   ]
  },
  {
   "cell_type": "markdown",
   "metadata": {
    "id": "WPLcvFTTMFYu"
   },
   "source": [
    "Теперь создадим класс в Surprise и унаследуем его от Algobase."
   ]
  },
  {
   "cell_type": "code",
   "execution_count": 16,
   "metadata": {
    "id": "zbnaQe9vMFYu"
   },
   "outputs": [],
   "source": [
    "class HybridFacto(surprise.AlgoBase):\n",
    "    def __init__(self,epochs, learning_rate,q,estimators):\n",
    "        self.alpha = np.array([1/q]*q)\n",
    "        self.epochs = epochs\n",
    "        self.learning_rate = learning_rate\n",
    "        self.collabKNN = estimators[0]\n",
    "        self.funkSVD = estimators[1]\n",
    "        self.coClus = estimators[2]\n",
    "        self.slopeOne = estimators[3]\n",
    "    \n",
    "    def fit(self, train_set):\n",
    "        holdout=train_set.build_full_trainset().build_testset()\n",
    "        predictions = []\n",
    "        predictions.append(self.collabKNN.test(holdout))\n",
    "        predictions.append(self.funkSVD.test(holdout))\n",
    "        predictions.append(self.coClus.test(holdout))\n",
    "        predictions.append(self.slopeOne.test(holdout))\n",
    "        for epoch in range(self.epochs):\n",
    "            maeGradient = np.array([surprise.accuracy.mae(prediction) for prediction in predictions])\n",
    "            newalpha =  self.alpha - maeGradient * self.learning_rate\n",
    "            #проверка сходимости:\n",
    "            if (newalpha - self.alpha).max() < 0.001:\n",
    "                break\n",
    "            self.alpha = newalpha\n",
    "            \n",
    "    def estimate(self,testset):\n",
    "        algoResults=[np.array([i.est for i in collabKNN.test(testset)]),\n",
    "                     np.array([i.est for i in funkSVD.test(testset)]),\n",
    "                     np.array([i.est for i in coClus.test(testset)]),\n",
    "                     np.array([i.est for i in slopeOne.test(testset)])]\n",
    "        return self.alpha @ algoResults\n",
    "        "
   ]
  },
  {
   "cell_type": "markdown",
   "metadata": {
    "id": "bPJ4-tTYMFYv"
   },
   "source": [
    "давайте проверим его:\n",
    "1. Инициализруйте Гибридную модель с 10 эпохами, learning_rate = 0.05, по 4 имеющимся моделям и обучите на holdout выборке\n",
    "2. Посчитайте root mean squared error с использованием метрики из sklearn для получившегося результата\n",
    "3. Отобразите на графике результаты метрики, полученые от одиночных моделей на предыдущих шагах вместе с результатом гибридной модели. Оцените результат"
   ]
  },
  {
   "cell_type": "code",
   "execution_count": 17,
   "metadata": {
    "colab": {
     "base_uri": "https://localhost:8080/"
    },
    "id": "phRT-0-nMFYv",
    "outputId": "a6c4a4ea-4de1-47c0-a20a-75bbd4e8a549"
   },
   "outputs": [
    {
     "name": "stdout",
     "output_type": "stream",
     "text": [
      "MAE:  0.6784\n",
      "MAE:  0.6719\n",
      "MAE:  0.6793\n",
      "MAE:  0.7081\n",
      "[0.6448262201816171, 0.6486284106369702, 0.6520007801127575, 0.6473844665963374, 0.6485399426494849, 0.6459889624374404, 0.6475745230578878, 0.6449948890353717, 0.6467905636211085, 0.6460380358694991]\n"
     ]
    }
   ],
   "source": [
    "from sklearn.metrics import mean_squared_error\n",
    "from math import sqrt\n",
    "\n",
    "# -- TODO --\n",
    "estimators = [collabKNN, funkSVD, coClus, slopeOne]\n",
    "hybrid = HybridFacto(10, 0.05, 4, estimators)\n",
    "hybrid.fit(holdout)\n",
    "\n",
    "rmseHyb = []\n",
    "for trainset, testset in kSplit.split(data):\n",
    "    predhybrid = hybrid.estimate(testset)\n",
    "    test_r = [i[2] for i in testset]\n",
    "    rmseHyb.append(mean_squared_error(test_r, predhybrid, squared=False))\n",
    "print(rmseHyb)"
   ]
  },
  {
   "cell_type": "code",
   "execution_count": 18,
   "metadata": {
    "colab": {
     "base_uri": "https://localhost:8080/",
     "height": 296
    },
    "id": "ugm_VtmGMFYy",
    "outputId": "0fb2271f-0b20-4489-938d-f23e8b49ed74"
   },
   "outputs": [
    {
     "data": {
      "text/plain": [
       "<matplotlib.legend.Legend at 0x7f00121b8310>"
      ]
     },
     "execution_count": 18,
     "metadata": {},
     "output_type": "execute_result"
    },
    {
     "data": {
      "image/png": "[encoded data removed]",
      "text/plain": [
       "<Figure size 432x288 with 1 Axes>"
      ]
     },
     "metadata": {
      "needs_background": "light"
     },
     "output_type": "display_data"
    }
   ],
   "source": [
    "#plotting the prediction data:\n",
    "modelPrediction = plt.plot(rmseKNN,label='knn')\n",
    "modelPrediction = plt.plot(rmseSVD,label='svd')\n",
    "modelPrediction = plt.plot(rmseCo,label='cluster')\n",
    "modelPrediction = plt.plot(rmseSlope,label='slope')\n",
    "modelPrediction = plt.plot(rmseHyb,label='hybrid')\n",
    "\n",
    "modelPrediction = plt.xlabel('folds')\n",
    "modelPrediction = plt.ylabel('rmse')\n",
    "plt.legend(bbox_to_anchor=(1.05, 1), loc=2, borderaxespad=0.)"
   ]
  },
  {
   "cell_type": "markdown",
   "metadata": {
    "id": "JfV39KDPMFYz"
   },
   "source": [
    "# Из полученных результатов видно, что гибридная модель дает значительно лучший результат в сравнении с одиночными"
   ]
  },
  {
   "cell_type": "code",
   "execution_count": 18,
   "metadata": {
    "id": "bdhldz3gMFYz"
   },
   "outputs": [],
   "source": []
  }
 ],
 "metadata": {
  "colab": {
   "provenance": []
  },
  "kernelspec": {
   "display_name": "Python 3 (ipykernel)",
   "language": "python",
   "name": "python3"
  },
  "language_info": {
   "codemirror_mode": {
    "name": "ipython",
    "version": 3
   },
   "file_extension": ".py",
   "mimetype": "text/x-python",
   "name": "python",
   "nbconvert_exporter": "python",
   "pygments_lexer": "ipython3",
   "version": "3.9.13"
  }
 },
 "nbformat": 4,
 "nbformat_minor": 1
}
