{
 "cells": [
  {
   "cell_type": "markdown",
   "metadata": {},
   "source": [
    "Представим, что у нас есть небольшой онлайн-кинотеатр и мы хотим, чтобы пользователи были довольны и смотрели фильмы у нас, а не на других ресурсах. Создадим небольшую матрицу рейтингов наших фильмов, на основании оценок пользователей."
   ]
  },
  {
   "cell_type": "code",
   "execution_count": 1,
   "metadata": {},
   "outputs": [],
   "source": [
    "import numpy as np\n",
    "import matplotlib.pyplot as plt\n",
    "import pandas as pd\n",
    "%matplotlib inline"
   ]
  },
  {
   "cell_type": "code",
   "execution_count": 2,
   "metadata": {},
   "outputs": [],
   "source": [
    "#Названия фильмов\n",
    "f = ['Терминатор', 'Робокоп', 'Рэмбо', 'Джеймс Бонд','Властелин Колец', 'Хоббит', 'Гарри Поттер', \n",
    "     'Американский Пирог', 'Мальчишник в Вегасе', 'Мстители', 'Супермен'] "
   ]
  },
  {
   "cell_type": "code",
   "execution_count": 3,
   "metadata": {},
   "outputs": [],
   "source": [
    "#Наши пользователи\n",
    "u = ['Вася','Петя','Саша','Женя','Маша','Оля','Лена','Ваня','Ира']"
   ]
  },
  {
   "cell_type": "code",
   "execution_count": 4,
   "metadata": {},
   "outputs": [],
   "source": [
    "#Рейтинг фильмов от пользователей. 0 - значит фильм не был просмотрен.\n",
    "fu = np.array([[9,0,0,6,4,3,5,7,8,6,5],\n",
    "              [0,0,0,8,10,0,8,5,6,2,0],\n",
    "              [8,0,5,7,4,0,5,7,8,8,5],\n",
    "              [5,2,0,4,10,0,9,5,0,0,0],\n",
    "              [0,0,2,5,7,0,0,9,0,4,0],\n",
    "              [2,3,0,0,0,7,9,0,5,0,3],\n",
    "              [5,0,3,8,8,0,0,7,0,2,4],\n",
    "              [8,7,0,6,5,4,0,8,0,10,0],\n",
    "              [0,0,2,5,10,0,0,0,9,0,3]])"
   ]
  },
  {
   "cell_type": "code",
   "execution_count": 5,
   "metadata": {},
   "outputs": [],
   "source": [
    "#Сделаем датафрейм из f,u и fu.\n",
    "R = pd.DataFrame(fu,u,f)"
   ]
  },
  {
   "cell_type": "code",
   "execution_count": 6,
   "metadata": {},
   "outputs": [
    {
     "data": {
      "text/html": [
       "<div>\n",
       "<style scoped>\n",
       "    .dataframe tbody tr th:only-of-type {\n",
       "        vertical-align: middle;\n",
       "    }\n",
       "\n",
       "    .dataframe tbody tr th {\n",
       "        vertical-align: top;\n",
       "    }\n",
       "\n",
       "    .dataframe thead th {\n",
       "        text-align: right;\n",
       "    }\n",
       "</style>\n",
       "<table border=\"1\" class=\"dataframe\">\n",
       "  <thead>\n",
       "    <tr style=\"text-align: right;\">\n",
       "      <th></th>\n",
       "      <th>Терминатор</th>\n",
       "      <th>Робокоп</th>\n",
       "      <th>Рэмбо</th>\n",
       "      <th>Джеймс Бонд</th>\n",
       "      <th>Властелин Колец</th>\n",
       "      <th>Хоббит</th>\n",
       "      <th>Гарри Поттер</th>\n",
       "      <th>Американский Пирог</th>\n",
       "      <th>Мальчишник в Вегасе</th>\n",
       "      <th>Мстители</th>\n",
       "      <th>Супермен</th>\n",
       "    </tr>\n",
       "  </thead>\n",
       "  <tbody>\n",
       "    <tr>\n",
       "      <th>Вася</th>\n",
       "      <td>9</td>\n",
       "      <td>0</td>\n",
       "      <td>0</td>\n",
       "      <td>6</td>\n",
       "      <td>4</td>\n",
       "      <td>3</td>\n",
       "      <td>5</td>\n",
       "      <td>7</td>\n",
       "      <td>8</td>\n",
       "      <td>6</td>\n",
       "      <td>5</td>\n",
       "    </tr>\n",
       "    <tr>\n",
       "      <th>Петя</th>\n",
       "      <td>0</td>\n",
       "      <td>0</td>\n",
       "      <td>0</td>\n",
       "      <td>8</td>\n",
       "      <td>10</td>\n",
       "      <td>0</td>\n",
       "      <td>8</td>\n",
       "      <td>5</td>\n",
       "      <td>6</td>\n",
       "      <td>2</td>\n",
       "      <td>0</td>\n",
       "    </tr>\n",
       "    <tr>\n",
       "      <th>Саша</th>\n",
       "      <td>8</td>\n",
       "      <td>0</td>\n",
       "      <td>5</td>\n",
       "      <td>7</td>\n",
       "      <td>4</td>\n",
       "      <td>0</td>\n",
       "      <td>5</td>\n",
       "      <td>7</td>\n",
       "      <td>8</td>\n",
       "      <td>8</td>\n",
       "      <td>5</td>\n",
       "    </tr>\n",
       "    <tr>\n",
       "      <th>Женя</th>\n",
       "      <td>5</td>\n",
       "      <td>2</td>\n",
       "      <td>0</td>\n",
       "      <td>4</td>\n",
       "      <td>10</td>\n",
       "      <td>0</td>\n",
       "      <td>9</td>\n",
       "      <td>5</td>\n",
       "      <td>0</td>\n",
       "      <td>0</td>\n",
       "      <td>0</td>\n",
       "    </tr>\n",
       "    <tr>\n",
       "      <th>Маша</th>\n",
       "      <td>0</td>\n",
       "      <td>0</td>\n",
       "      <td>2</td>\n",
       "      <td>5</td>\n",
       "      <td>7</td>\n",
       "      <td>0</td>\n",
       "      <td>0</td>\n",
       "      <td>9</td>\n",
       "      <td>0</td>\n",
       "      <td>4</td>\n",
       "      <td>0</td>\n",
       "    </tr>\n",
       "    <tr>\n",
       "      <th>Оля</th>\n",
       "      <td>2</td>\n",
       "      <td>3</td>\n",
       "      <td>0</td>\n",
       "      <td>0</td>\n",
       "      <td>0</td>\n",
       "      <td>7</td>\n",
       "      <td>9</td>\n",
       "      <td>0</td>\n",
       "      <td>5</td>\n",
       "      <td>0</td>\n",
       "      <td>3</td>\n",
       "    </tr>\n",
       "    <tr>\n",
       "      <th>Лена</th>\n",
       "      <td>5</td>\n",
       "      <td>0</td>\n",
       "      <td>3</td>\n",
       "      <td>8</td>\n",
       "      <td>8</td>\n",
       "      <td>0</td>\n",
       "      <td>0</td>\n",
       "      <td>7</td>\n",
       "      <td>0</td>\n",
       "      <td>2</td>\n",
       "      <td>4</td>\n",
       "    </tr>\n",
       "    <tr>\n",
       "      <th>Ваня</th>\n",
       "      <td>8</td>\n",
       "      <td>7</td>\n",
       "      <td>0</td>\n",
       "      <td>6</td>\n",
       "      <td>5</td>\n",
       "      <td>4</td>\n",
       "      <td>0</td>\n",
       "      <td>8</td>\n",
       "      <td>0</td>\n",
       "      <td>10</td>\n",
       "      <td>0</td>\n",
       "    </tr>\n",
       "    <tr>\n",
       "      <th>Ира</th>\n",
       "      <td>0</td>\n",
       "      <td>0</td>\n",
       "      <td>2</td>\n",
       "      <td>5</td>\n",
       "      <td>10</td>\n",
       "      <td>0</td>\n",
       "      <td>0</td>\n",
       "      <td>0</td>\n",
       "      <td>9</td>\n",
       "      <td>0</td>\n",
       "      <td>3</td>\n",
       "    </tr>\n",
       "  </tbody>\n",
       "</table>\n",
       "</div>"
      ],
      "text/plain": [
       "      Терминатор  Робокоп  Рэмбо  Джеймс Бонд  Властелин Колец  Хоббит  \\\n",
       "Вася           9        0      0            6                4       3   \n",
       "Петя           0        0      0            8               10       0   \n",
       "Саша           8        0      5            7                4       0   \n",
       "Женя           5        2      0            4               10       0   \n",
       "Маша           0        0      2            5                7       0   \n",
       "Оля            2        3      0            0                0       7   \n",
       "Лена           5        0      3            8                8       0   \n",
       "Ваня           8        7      0            6                5       4   \n",
       "Ира            0        0      2            5               10       0   \n",
       "\n",
       "      Гарри Поттер  Американский Пирог  Мальчишник в Вегасе  Мстители  \\\n",
       "Вася             5                   7                    8         6   \n",
       "Петя             8                   5                    6         2   \n",
       "Саша             5                   7                    8         8   \n",
       "Женя             9                   5                    0         0   \n",
       "Маша             0                   9                    0         4   \n",
       "Оля              9                   0                    5         0   \n",
       "Лена             0                   7                    0         2   \n",
       "Ваня             0                   8                    0        10   \n",
       "Ира              0                   0                    9         0   \n",
       "\n",
       "      Супермен  \n",
       "Вася         5  \n",
       "Петя         0  \n",
       "Саша         5  \n",
       "Женя         0  \n",
       "Маша         0  \n",
       "Оля          3  \n",
       "Лена         4  \n",
       "Ваня         0  \n",
       "Ира          3  "
      ]
     },
     "execution_count": 6,
     "metadata": {},
     "output_type": "execute_result"
    }
   ],
   "source": [
    "R"
   ]
  },
  {
   "cell_type": "markdown",
   "metadata": {},
   "source": [
    "Вот теперь и встаёт вопрос, какой предложить фильм, чтобы наш пользователь хорошо провёл вечер? Немного поискав на просторах интернета, находим статью о том, что один большой онлнайн-кинотеатр **Netflix** в 2006 году объявил соревнование по разработке рекомендательной системы фильмов. За решение, которое улучшит качество рекомендаций на 10%, была объявлена награда в 1 млн долларов. В итоге в 2011 году такое решение было получено, а работало оно на основе **SVD** - Singular Value Decomposition."
   ]
  },
  {
   "attachments": {
    "SVD_img_1.png": {
     "image/png": "[encoded data removed]"
    }
   },
   "cell_type": "markdown",
   "metadata": {},
   "source": [
    "### Немного линейной алгебры.\n",
    "Аналитическое решение SVD состоит в том, что прямоугольную матрицу A мы можем разложить на 3 матрицы: U, Ʃ и V.\n",
    "\n",
    "![SVD_img_1.png](attachment:SVD_img_1.png)"
   ]
  },
  {
   "attachments": {
    "SVD_img_2.png": {
     "image/png": "[encoded data removed]"
    }
   },
   "cell_type": "markdown",
   "metadata": {},
   "source": [
    "Матрицы U и V ортогональные(при умножении на транспонированную себя дают 1), а Ʃ — диагональная (хотя и не квадратная). \n",
    "\n",
    "![SVD_img_2.png](attachment:SVD_img_2.png)\n",
    "\n",
    "В случае разреженной матрицы, которой обычно является рейтинг фильмов, можно использовать усечённое разложение (truncated SVD), где мы оставляем только d первых чисел $\\lambda$. В итоге получаем разложение матрицы A', которое хорошо приближает исходную матрицу A."
   ]
  },
  {
   "attachments": {
    "SVD_img_4.png": {
     "image/png": "[encoded data removed]"
    }
   },
   "cell_type": "markdown",
   "metadata": {},
   "source": [
    "Теперь применим это к нашей рекомендательной системе. У нас есть матрица оценок R, давайте сделаем её сингулярное разложение.\n",
    "Первые две матрицы перемножим, получим также матрицу $n$ x $d$, в итоге получится такое разложение. n -кол-во пользователей\n",
    "\n",
    "![SVD_img_4.png](attachment:SVD_img_4.png)"
   ]
  },
  {
   "cell_type": "markdown",
   "metadata": {},
   "source": [
    "Размерность **d** в данном случае отвечает за количество скрытых свойств/интересов у наших пользователей и фильмов, $\\hat r \\tiny ui$ - рейтинг фильма, который мы получили перемножив матрицы **U** и **V**.\n",
    "\n",
    "Таким образом, мы научились приближать исходную матрицу оценок матрицей, полученной на основе перемножения двух матриц, отвечающих за интересы пользователей и свойства фильмов. Но проблема в том, что матрица **R** у нас разреженная, и мы бы хотели бы как раз заполнить пустые (нулевые) элементы оценками пользователей.\n"
   ]
  },
  {
   "cell_type": "markdown",
   "metadata": {},
   "source": [
    "Как же это сделать? Для этого нам нужно приблизить уже имеющиеся оценки числами, полученными в результате перемножения матриц $U$ и $V$. Тогда мы получим и оценки для нулей нашей исходной матрицы, т.е. нужно минимизировать такую функцию:\n",
    "\n",
    "$$\\large \\frac{1}{n}\\Sigma_{ui} (r {\\tiny ui}-\\hat r {\\tiny ui})^{2} \\to min,$$ где суммирование идёт по ненулевым индексам $u,i$ нашей исходной матрицы оценок, а $n$ - количество оценок в матрице."
   ]
  },
  {
   "cell_type": "markdown",
   "metadata": {},
   "source": [
    "Так это же задача регрессии с квадратичной функций потерь **MSE**. **MSE** выбрана по двум причинам: историческая, Netflix предложили метрику **RMSE** и она лучше оптимизируется градиентным спуском."
   ]
  },
  {
   "cell_type": "markdown",
   "metadata": {},
   "source": [
    "Функция потерь есть, метод оптимизации выбран, что забыли? Регуляризатор! Воспользуемся $L{\\tiny 2}$-регуляризацией: \n",
    "$\\large \\lambda(\\Sigma_{u}p {\\tiny u}^{2} + \\Sigma_{i}q {\\tiny i}^{2})$\n",
    "Осталось посчитать градиенты для реализации поиска минимума **MSE**. Воспользуемся стохастическим градиентным спуском, поэтому будем считать градиенты на одном объекте $\\large r {\\tiny ui}$ из матрицы оценок. В итоге получаем такие правила обновления элементов наших матриц **U** и **V**."
   ]
  },
  {
   "cell_type": "markdown",
   "metadata": {},
   "source": [
    "$\\large \n",
    "{p_{u,j}=p_{u,j} + \\large \\gamma (r_{ui}-\\hat r_{ui}) q_{i,j} - \\lambda p_{u,j}}$\n",
    "\n",
    "\n",
    "$\\large {q_{i,j}=q_{i,j} + \\large \\gamma (r_{ui}-\\hat r_{ui}) p_{u,j} - \\lambda q_{i,j}}$\n",
    "\n",
    "Индексы $u,i$ - номера пользователя и фильма в наших матрицах **U** (номер строки) и **V** (номер столбца), $j$ - $j$-ая компонента векторов $\\large p_{u}$ и $\\large q_{i}$."
   ]
  },
  {
   "cell_type": "markdown",
   "metadata": {},
   "source": [
    "Ну что же, теперь воспользуемся Питоном и сделаем рекомендации для наших пользователей!"
   ]
  },
  {
   "cell_type": "code",
   "execution_count": 7,
   "metadata": {},
   "outputs": [],
   "source": [
    "def SVD(R,d,step,lambda_reg,n_iters):\n",
    "    #инициализуем наши матрицы для разложения\n",
    "    U = np.zeros((R.shape[0],d))\n",
    "    V = np.zeros((d,R.shape[1]))\n",
    "    #начальные элементы матрица U и V будут средним рейтингом по ненулевым оценкам\n",
    "    mu = R.sum()/(R!=0).sum()\n",
    "    non_zero = (R!=0).sum()\n",
    "    U = U + mu\n",
    "    V = V + mu\n",
    "    # Создадим списки, где будут индексы нулевых и ненулевых элементов матрицы R\n",
    "    indx=[]\n",
    "    zero_indx = []\n",
    "    # Инициализируем MSE в начале и будем отслеживать в процессе обучения\n",
    "    MSE_start = 0\n",
    "    MSE=[]\n",
    "    # Найдём индексы нулевых и ненулевых элементов\n",
    "    for i in range(R.shape[0]):\n",
    "        for j in range(R.shape[1]):\n",
    "            if R[i][j]>0:\n",
    "                indx.append([i,j])\n",
    "                MSE_start+=((R[i,j]-np.dot(U[i,:],V[:,j])) ** 2) / non_zero\n",
    "            else:\n",
    "                zero_indx.append([i,j])\n",
    "    # Сделаем градиентный спуск            \n",
    "    for n in range(n_iters):\n",
    "        choice = np.random.randint(0,len(indx))\n",
    "        ij = indx[choice]\n",
    "        for k in range(0,d):\n",
    "            U[ij[0],k] = U[ij[0],k] + step * ((R[ij[0]][ij[1]] - \n",
    "                                               np.dot(U[ij[0],:],V[:,ij[1]])) * V[k,ij[1]] - \n",
    "                                              lambda_reg * U[ij[0],k])\n",
    "            V[k,ij[1]] = V[k,ij[1]] + step * ((R[ij[0]][ij[1]] - \n",
    "                                               np.dot(U[ij[0],:],V[:,ij[1]])) * U[ij[0],k] - \n",
    "                                              lambda_reg * V[k,ij[1]])\n",
    "            \n",
    "        L=0\n",
    "        for i in range(R.shape[0]):\n",
    "            for j in range(R.shape[1]):\n",
    "                if R[i,j]>0:\n",
    "                    L+=((R[i,j]-np.dot(U[i,:],V[:,j])) ** 2)/non_zero\n",
    "        MSE.append(L)    \n",
    "    return U,V, MSE_start, MSE"
   ]
  },
  {
   "cell_type": "code",
   "execution_count": 8,
   "metadata": {},
   "outputs": [],
   "source": [
    "A,B,M_1,M_end = SVD(R.values,2,0.01,0.1,3000)"
   ]
  },
  {
   "cell_type": "code",
   "execution_count": 9,
   "metadata": {},
   "outputs": [
    {
     "data": {
      "text/plain": [
       "array([[ 9,  0,  0,  6,  4,  3,  5,  7,  8,  6,  5],\n",
       "       [ 0,  0,  0,  8, 10,  0,  8,  5,  6,  2,  0],\n",
       "       [ 8,  0,  5,  7,  4,  0,  5,  7,  8,  8,  5],\n",
       "       [ 5,  2,  0,  4, 10,  0,  9,  5,  0,  0,  0],\n",
       "       [ 0,  0,  2,  5,  7,  0,  0,  9,  0,  4,  0],\n",
       "       [ 2,  3,  0,  0,  0,  7,  9,  0,  5,  0,  3],\n",
       "       [ 5,  0,  3,  8,  8,  0,  0,  7,  0,  2,  4],\n",
       "       [ 8,  7,  0,  6,  5,  4,  0,  8,  0, 10,  0],\n",
       "       [ 0,  0,  2,  5, 10,  0,  0,  0,  9,  0,  3]])"
      ]
     },
     "execution_count": 9,
     "metadata": {},
     "output_type": "execute_result"
    }
   ],
   "source": [
    "R.values"
   ]
  },
  {
   "cell_type": "code",
   "execution_count": 10,
   "metadata": {},
   "outputs": [
    {
     "data": {
      "text/plain": [
       "array([[6.10808685, 4.96216399, 3.5241459 , 4.92087482, 6.11924867,\n",
       "        5.51349703, 6.9862014 , 6.45737711, 6.50138999, 4.88180031,\n",
       "        3.8613061 ],\n",
       "       [6.33466397, 4.15964915, 1.93916737, 6.46373026, 7.78434624,\n",
       "        4.81729946, 8.90088822, 7.37225673, 7.8607086 , 5.59671305,\n",
       "        4.08556205],\n",
       "       [7.26746838, 6.58740437, 5.38146764, 4.91267308, 6.28463011,\n",
       "        7.18391064, 7.16553489, 7.21527282, 6.96092558, 5.43866059,\n",
       "        4.53810324],\n",
       "       [5.19322579, 2.8788914 , 0.66591583, 6.03150894, 7.15605019,\n",
       "        3.46427529, 8.18848014, 6.40750051, 7.04637104, 4.87568737,\n",
       "        3.39301486],\n",
       "       [6.27066687, 4.72157761, 2.96987073, 5.56569098, 6.82534557,\n",
       "        5.32001989, 7.79750454, 6.88435439, 7.0968012 , 5.21338291,\n",
       "        3.99468793],\n",
       "       [5.44578562, 4.09978514, 2.57800005, 4.83449477, 5.92850105,\n",
       "        4.61956458, 6.77292795, 5.97921578, 6.16402473, 4.52795528,\n",
       "        3.46925912],\n",
       "       [6.14190307, 4.34502234, 2.4226505 , 5.83692139, 7.09275547,\n",
       "        4.95551065, 8.10657212, 6.93438394, 7.26796093, 5.25761708,\n",
       "        3.93562174],\n",
       "       [8.09520528, 6.5818005 , 4.67988698, 6.51443218, 8.10224883,\n",
       "        7.31203372, 9.25007202, 8.55448946, 8.61043472, 6.46709944,\n",
       "        5.11705211],\n",
       "       [6.01852454, 3.90072888, 1.75313006, 6.21192104, 7.47067703,\n",
       "        4.53002555, 8.5428085 , 7.03947023, 7.52658259, 5.34517456,\n",
       "        3.88588214]])"
      ]
     },
     "execution_count": 10,
     "metadata": {},
     "output_type": "execute_result"
    }
   ],
   "source": [
    "A@B"
   ]
  },
  {
   "cell_type": "code",
   "execution_count": 11,
   "metadata": {},
   "outputs": [
    {
     "data": {
      "text/plain": [
       "array([[4.78394616, 5.32375962, 5.25971089, 1.87230844, 2.69756526,\n",
       "        5.63047738, 3.05981025, 4.07362989, 3.46299355, 3.04579154,\n",
       "        2.90619512],\n",
       "       [4.2905985 , 3.5418087 , 2.5731825 , 3.37921431, 4.21657879,\n",
       "        3.92420247, 4.81318928, 4.49751369, 4.50322479, 3.39881247,\n",
       "        2.70774536]])"
      ]
     },
     "execution_count": 11,
     "metadata": {},
     "output_type": "execute_result"
    }
   ],
   "source": [
    "B"
   ]
  },
  {
   "cell_type": "code",
   "execution_count": 12,
   "metadata": {},
   "outputs": [],
   "source": [
    "r_cap = np.zeros((R.shape[0],R.shape[1]))\n",
    "for i in range(R.shape[0]):\n",
    "    for j in range(R.shape[1]):\n",
    "        r_cap[i,j]=np.dot(A[i,:],B[:,j])"
   ]
  },
  {
   "cell_type": "code",
   "execution_count": 13,
   "metadata": {},
   "outputs": [
    {
     "data": {
      "text/html": [
       "<div>\n",
       "<style scoped>\n",
       "    .dataframe tbody tr th:only-of-type {\n",
       "        vertical-align: middle;\n",
       "    }\n",
       "\n",
       "    .dataframe tbody tr th {\n",
       "        vertical-align: top;\n",
       "    }\n",
       "\n",
       "    .dataframe thead th {\n",
       "        text-align: right;\n",
       "    }\n",
       "</style>\n",
       "<table border=\"1\" class=\"dataframe\">\n",
       "  <thead>\n",
       "    <tr style=\"text-align: right;\">\n",
       "      <th></th>\n",
       "      <th>Терминатор</th>\n",
       "      <th>Робокоп</th>\n",
       "      <th>Рэмбо</th>\n",
       "      <th>Джеймс Бонд</th>\n",
       "      <th>Властелин Колец</th>\n",
       "      <th>Хоббит</th>\n",
       "      <th>Гарри Поттер</th>\n",
       "      <th>Американский Пирог</th>\n",
       "      <th>Мальчишник в Вегасе</th>\n",
       "      <th>Мстители</th>\n",
       "      <th>Супермен</th>\n",
       "    </tr>\n",
       "  </thead>\n",
       "  <tbody>\n",
       "    <tr>\n",
       "      <th>Вася</th>\n",
       "      <td>9</td>\n",
       "      <td>0</td>\n",
       "      <td>0</td>\n",
       "      <td>6</td>\n",
       "      <td>4</td>\n",
       "      <td>3</td>\n",
       "      <td>5</td>\n",
       "      <td>7</td>\n",
       "      <td>8</td>\n",
       "      <td>6</td>\n",
       "      <td>5</td>\n",
       "    </tr>\n",
       "    <tr>\n",
       "      <th>Петя</th>\n",
       "      <td>0</td>\n",
       "      <td>0</td>\n",
       "      <td>0</td>\n",
       "      <td>8</td>\n",
       "      <td>10</td>\n",
       "      <td>0</td>\n",
       "      <td>8</td>\n",
       "      <td>5</td>\n",
       "      <td>6</td>\n",
       "      <td>2</td>\n",
       "      <td>0</td>\n",
       "    </tr>\n",
       "    <tr>\n",
       "      <th>Саша</th>\n",
       "      <td>8</td>\n",
       "      <td>0</td>\n",
       "      <td>5</td>\n",
       "      <td>7</td>\n",
       "      <td>4</td>\n",
       "      <td>0</td>\n",
       "      <td>5</td>\n",
       "      <td>7</td>\n",
       "      <td>8</td>\n",
       "      <td>8</td>\n",
       "      <td>5</td>\n",
       "    </tr>\n",
       "    <tr>\n",
       "      <th>Женя</th>\n",
       "      <td>5</td>\n",
       "      <td>2</td>\n",
       "      <td>0</td>\n",
       "      <td>4</td>\n",
       "      <td>10</td>\n",
       "      <td>0</td>\n",
       "      <td>9</td>\n",
       "      <td>5</td>\n",
       "      <td>0</td>\n",
       "      <td>0</td>\n",
       "      <td>0</td>\n",
       "    </tr>\n",
       "    <tr>\n",
       "      <th>Маша</th>\n",
       "      <td>0</td>\n",
       "      <td>0</td>\n",
       "      <td>2</td>\n",
       "      <td>5</td>\n",
       "      <td>7</td>\n",
       "      <td>0</td>\n",
       "      <td>0</td>\n",
       "      <td>9</td>\n",
       "      <td>0</td>\n",
       "      <td>4</td>\n",
       "      <td>0</td>\n",
       "    </tr>\n",
       "    <tr>\n",
       "      <th>Оля</th>\n",
       "      <td>2</td>\n",
       "      <td>3</td>\n",
       "      <td>0</td>\n",
       "      <td>0</td>\n",
       "      <td>0</td>\n",
       "      <td>7</td>\n",
       "      <td>9</td>\n",
       "      <td>0</td>\n",
       "      <td>5</td>\n",
       "      <td>0</td>\n",
       "      <td>3</td>\n",
       "    </tr>\n",
       "    <tr>\n",
       "      <th>Лена</th>\n",
       "      <td>5</td>\n",
       "      <td>0</td>\n",
       "      <td>3</td>\n",
       "      <td>8</td>\n",
       "      <td>8</td>\n",
       "      <td>0</td>\n",
       "      <td>0</td>\n",
       "      <td>7</td>\n",
       "      <td>0</td>\n",
       "      <td>2</td>\n",
       "      <td>4</td>\n",
       "    </tr>\n",
       "    <tr>\n",
       "      <th>Ваня</th>\n",
       "      <td>8</td>\n",
       "      <td>7</td>\n",
       "      <td>0</td>\n",
       "      <td>6</td>\n",
       "      <td>5</td>\n",
       "      <td>4</td>\n",
       "      <td>0</td>\n",
       "      <td>8</td>\n",
       "      <td>0</td>\n",
       "      <td>10</td>\n",
       "      <td>0</td>\n",
       "    </tr>\n",
       "    <tr>\n",
       "      <th>Ира</th>\n",
       "      <td>0</td>\n",
       "      <td>0</td>\n",
       "      <td>2</td>\n",
       "      <td>5</td>\n",
       "      <td>10</td>\n",
       "      <td>0</td>\n",
       "      <td>0</td>\n",
       "      <td>0</td>\n",
       "      <td>9</td>\n",
       "      <td>0</td>\n",
       "      <td>3</td>\n",
       "    </tr>\n",
       "  </tbody>\n",
       "</table>\n",
       "</div>"
      ],
      "text/plain": [
       "      Терминатор  Робокоп  Рэмбо  Джеймс Бонд  Властелин Колец  Хоббит  \\\n",
       "Вася           9        0      0            6                4       3   \n",
       "Петя           0        0      0            8               10       0   \n",
       "Саша           8        0      5            7                4       0   \n",
       "Женя           5        2      0            4               10       0   \n",
       "Маша           0        0      2            5                7       0   \n",
       "Оля            2        3      0            0                0       7   \n",
       "Лена           5        0      3            8                8       0   \n",
       "Ваня           8        7      0            6                5       4   \n",
       "Ира            0        0      2            5               10       0   \n",
       "\n",
       "      Гарри Поттер  Американский Пирог  Мальчишник в Вегасе  Мстители  \\\n",
       "Вася             5                   7                    8         6   \n",
       "Петя             8                   5                    6         2   \n",
       "Саша             5                   7                    8         8   \n",
       "Женя             9                   5                    0         0   \n",
       "Маша             0                   9                    0         4   \n",
       "Оля              9                   0                    5         0   \n",
       "Лена             0                   7                    0         2   \n",
       "Ваня             0                   8                    0        10   \n",
       "Ира              0                   0                    9         0   \n",
       "\n",
       "      Супермен  \n",
       "Вася         5  \n",
       "Петя         0  \n",
       "Саша         5  \n",
       "Женя         0  \n",
       "Маша         0  \n",
       "Оля          3  \n",
       "Лена         4  \n",
       "Ваня         0  \n",
       "Ира          3  "
      ]
     },
     "execution_count": 13,
     "metadata": {},
     "output_type": "execute_result"
    }
   ],
   "source": [
    "R"
   ]
  },
  {
   "cell_type": "code",
   "execution_count": 14,
   "metadata": {},
   "outputs": [],
   "source": [
    "R_cap = pd.DataFrame(r_cap,u,f)"
   ]
  },
  {
   "cell_type": "code",
   "execution_count": 15,
   "metadata": {},
   "outputs": [
    {
     "data": {
      "text/html": [
       "<div>\n",
       "<style scoped>\n",
       "    .dataframe tbody tr th:only-of-type {\n",
       "        vertical-align: middle;\n",
       "    }\n",
       "\n",
       "    .dataframe tbody tr th {\n",
       "        vertical-align: top;\n",
       "    }\n",
       "\n",
       "    .dataframe thead th {\n",
       "        text-align: right;\n",
       "    }\n",
       "</style>\n",
       "<table border=\"1\" class=\"dataframe\">\n",
       "  <thead>\n",
       "    <tr style=\"text-align: right;\">\n",
       "      <th></th>\n",
       "      <th>Терминатор</th>\n",
       "      <th>Робокоп</th>\n",
       "      <th>Рэмбо</th>\n",
       "      <th>Джеймс Бонд</th>\n",
       "      <th>Властелин Колец</th>\n",
       "      <th>Хоббит</th>\n",
       "      <th>Гарри Поттер</th>\n",
       "      <th>Американский Пирог</th>\n",
       "      <th>Мальчишник в Вегасе</th>\n",
       "      <th>Мстители</th>\n",
       "      <th>Супермен</th>\n",
       "    </tr>\n",
       "  </thead>\n",
       "  <tbody>\n",
       "    <tr>\n",
       "      <th>Вася</th>\n",
       "      <td>6.108087</td>\n",
       "      <td>4.962164</td>\n",
       "      <td>3.524146</td>\n",
       "      <td>4.920875</td>\n",
       "      <td>6.119249</td>\n",
       "      <td>5.513497</td>\n",
       "      <td>6.986201</td>\n",
       "      <td>6.457377</td>\n",
       "      <td>6.501390</td>\n",
       "      <td>4.881800</td>\n",
       "      <td>3.861306</td>\n",
       "    </tr>\n",
       "    <tr>\n",
       "      <th>Петя</th>\n",
       "      <td>6.334664</td>\n",
       "      <td>4.159649</td>\n",
       "      <td>1.939167</td>\n",
       "      <td>6.463730</td>\n",
       "      <td>7.784346</td>\n",
       "      <td>4.817299</td>\n",
       "      <td>8.900888</td>\n",
       "      <td>7.372257</td>\n",
       "      <td>7.860709</td>\n",
       "      <td>5.596713</td>\n",
       "      <td>4.085562</td>\n",
       "    </tr>\n",
       "    <tr>\n",
       "      <th>Саша</th>\n",
       "      <td>7.267468</td>\n",
       "      <td>6.587404</td>\n",
       "      <td>5.381468</td>\n",
       "      <td>4.912673</td>\n",
       "      <td>6.284630</td>\n",
       "      <td>7.183911</td>\n",
       "      <td>7.165535</td>\n",
       "      <td>7.215273</td>\n",
       "      <td>6.960926</td>\n",
       "      <td>5.438661</td>\n",
       "      <td>4.538103</td>\n",
       "    </tr>\n",
       "    <tr>\n",
       "      <th>Женя</th>\n",
       "      <td>5.193226</td>\n",
       "      <td>2.878891</td>\n",
       "      <td>0.665916</td>\n",
       "      <td>6.031509</td>\n",
       "      <td>7.156050</td>\n",
       "      <td>3.464275</td>\n",
       "      <td>8.188480</td>\n",
       "      <td>6.407501</td>\n",
       "      <td>7.046371</td>\n",
       "      <td>4.875687</td>\n",
       "      <td>3.393015</td>\n",
       "    </tr>\n",
       "    <tr>\n",
       "      <th>Маша</th>\n",
       "      <td>6.270667</td>\n",
       "      <td>4.721578</td>\n",
       "      <td>2.969871</td>\n",
       "      <td>5.565691</td>\n",
       "      <td>6.825346</td>\n",
       "      <td>5.320020</td>\n",
       "      <td>7.797505</td>\n",
       "      <td>6.884354</td>\n",
       "      <td>7.096801</td>\n",
       "      <td>5.213383</td>\n",
       "      <td>3.994688</td>\n",
       "    </tr>\n",
       "    <tr>\n",
       "      <th>Оля</th>\n",
       "      <td>5.445786</td>\n",
       "      <td>4.099785</td>\n",
       "      <td>2.578000</td>\n",
       "      <td>4.834495</td>\n",
       "      <td>5.928501</td>\n",
       "      <td>4.619565</td>\n",
       "      <td>6.772928</td>\n",
       "      <td>5.979216</td>\n",
       "      <td>6.164025</td>\n",
       "      <td>4.527955</td>\n",
       "      <td>3.469259</td>\n",
       "    </tr>\n",
       "    <tr>\n",
       "      <th>Лена</th>\n",
       "      <td>6.141903</td>\n",
       "      <td>4.345022</td>\n",
       "      <td>2.422651</td>\n",
       "      <td>5.836921</td>\n",
       "      <td>7.092755</td>\n",
       "      <td>4.955511</td>\n",
       "      <td>8.106572</td>\n",
       "      <td>6.934384</td>\n",
       "      <td>7.267961</td>\n",
       "      <td>5.257617</td>\n",
       "      <td>3.935622</td>\n",
       "    </tr>\n",
       "    <tr>\n",
       "      <th>Ваня</th>\n",
       "      <td>8.095205</td>\n",
       "      <td>6.581801</td>\n",
       "      <td>4.679887</td>\n",
       "      <td>6.514432</td>\n",
       "      <td>8.102249</td>\n",
       "      <td>7.312034</td>\n",
       "      <td>9.250072</td>\n",
       "      <td>8.554489</td>\n",
       "      <td>8.610435</td>\n",
       "      <td>6.467099</td>\n",
       "      <td>5.117052</td>\n",
       "    </tr>\n",
       "    <tr>\n",
       "      <th>Ира</th>\n",
       "      <td>6.018525</td>\n",
       "      <td>3.900729</td>\n",
       "      <td>1.753130</td>\n",
       "      <td>6.211921</td>\n",
       "      <td>7.470677</td>\n",
       "      <td>4.530026</td>\n",
       "      <td>8.542809</td>\n",
       "      <td>7.039470</td>\n",
       "      <td>7.526583</td>\n",
       "      <td>5.345175</td>\n",
       "      <td>3.885882</td>\n",
       "    </tr>\n",
       "  </tbody>\n",
       "</table>\n",
       "</div>"
      ],
      "text/plain": [
       "      Терминатор   Робокоп     Рэмбо  Джеймс Бонд  Властелин Колец    Хоббит  \\\n",
       "Вася    6.108087  4.962164  3.524146     4.920875         6.119249  5.513497   \n",
       "Петя    6.334664  4.159649  1.939167     6.463730         7.784346  4.817299   \n",
       "Саша    7.267468  6.587404  5.381468     4.912673         6.284630  7.183911   \n",
       "Женя    5.193226  2.878891  0.665916     6.031509         7.156050  3.464275   \n",
       "Маша    6.270667  4.721578  2.969871     5.565691         6.825346  5.320020   \n",
       "Оля     5.445786  4.099785  2.578000     4.834495         5.928501  4.619565   \n",
       "Лена    6.141903  4.345022  2.422651     5.836921         7.092755  4.955511   \n",
       "Ваня    8.095205  6.581801  4.679887     6.514432         8.102249  7.312034   \n",
       "Ира     6.018525  3.900729  1.753130     6.211921         7.470677  4.530026   \n",
       "\n",
       "      Гарри Поттер  Американский Пирог  Мальчишник в Вегасе  Мстители  \\\n",
       "Вася      6.986201            6.457377             6.501390  4.881800   \n",
       "Петя      8.900888            7.372257             7.860709  5.596713   \n",
       "Саша      7.165535            7.215273             6.960926  5.438661   \n",
       "Женя      8.188480            6.407501             7.046371  4.875687   \n",
       "Маша      7.797505            6.884354             7.096801  5.213383   \n",
       "Оля       6.772928            5.979216             6.164025  4.527955   \n",
       "Лена      8.106572            6.934384             7.267961  5.257617   \n",
       "Ваня      9.250072            8.554489             8.610435  6.467099   \n",
       "Ира       8.542809            7.039470             7.526583  5.345175   \n",
       "\n",
       "      Супермен  \n",
       "Вася  3.861306  \n",
       "Петя  4.085562  \n",
       "Саша  4.538103  \n",
       "Женя  3.393015  \n",
       "Маша  3.994688  \n",
       "Оля   3.469259  \n",
       "Лена  3.935622  \n",
       "Ваня  5.117052  \n",
       "Ира   3.885882  "
      ]
     },
     "execution_count": 15,
     "metadata": {},
     "output_type": "execute_result"
    }
   ],
   "source": [
    "R_cap"
   ]
  },
  {
   "cell_type": "code",
   "execution_count": 16,
   "metadata": {},
   "outputs": [
    {
     "name": "stdout",
     "output_type": "stream",
     "text": [
      "Start MSE: 4065.7950666666675 Finish MSE: 3.216430324569199\n"
     ]
    }
   ],
   "source": [
    "print ('Start MSE:',M_1,'Finish MSE:',M_end[-1])"
   ]
  },
  {
   "cell_type": "code",
   "execution_count": 17,
   "metadata": {},
   "outputs": [
    {
     "name": "stdout",
     "output_type": "stream",
     "text": [
      "Start RMSE 63.76358731020917 Finish RMSE 1.7934409175016608\n"
     ]
    }
   ],
   "source": [
    "print ('Start RMSE',np.sqrt(M_1),'Finish RMSE',np.sqrt(M_end[-1]))"
   ]
  },
  {
   "cell_type": "code",
   "execution_count": 18,
   "metadata": {},
   "outputs": [],
   "source": [
    "n = (R.values != 0).sum()"
   ]
  },
  {
   "cell_type": "code",
   "execution_count": 19,
   "metadata": {},
   "outputs": [],
   "source": [
    "L=0\n",
    "for i in range(R.shape[0]):\n",
    "    for j in range(R.shape[1]):\n",
    "        if R.values[i,j]>0:\n",
    "            L+=((R.values[i,j]-R_cap.values[i,j]) ** 2)/n"
   ]
  },
  {
   "cell_type": "code",
   "execution_count": 20,
   "metadata": {},
   "outputs": [
    {
     "data": {
      "text/plain": [
       "3.216430324569199"
      ]
     },
     "execution_count": 20,
     "metadata": {},
     "output_type": "execute_result"
    }
   ],
   "source": [
    "L"
   ]
  },
  {
   "cell_type": "markdown",
   "metadata": {},
   "source": [
    "В итоге получили матрицу оценок с помощью SGD. Как видно, MSE сильно упал. Можно поиграться с параметрами, чтобы настроить качество. Как итог, выбираем фильмы с наибольшей оценкой и рекомендуем их пользователям! :) "
   ]
  },
  {
   "cell_type": "markdown",
   "metadata": {},
   "source": [
    "Как подбирать d?"
   ]
  },
  {
   "cell_type": "markdown",
   "metadata": {},
   "source": [
    "есть хорошая библиотека Surprise, где можно делать рекомендации проще, быстрее и различными способами.\n",
    "Оставлю ссылку для ознакомления http://surpriselib.com/"
   ]
  },
  {
   "cell_type": "code",
   "execution_count": null,
   "metadata": {},
   "outputs": [],
   "source": []
  },
  {
   "cell_type": "code",
   "execution_count": null,
   "metadata": {},
   "outputs": [],
   "source": []
  },
  {
   "cell_type": "markdown",
   "metadata": {},
   "source": [
    "#### Домашнее задание 1.  Гибкий дедлайн 4 октября. Жесткий дедлайн  11 октября (-1 балл). \n",
    "\n",
    "    на этих же игрушечных данных:\n",
    "    \n",
    "        1. Разобраться и применить truncated SVD из sklearn.decomposition\n",
    "        2. Разобраться и применить SVD из surprise.\n",
    "        3. Разобраться и применить svds из scipy.sparse\n",
    "        \n",
    "    Сравнить результаты. Какие различия у этих алгоритмов? Как изменилась метрика? Почему? "
   ]
  },
  {
   "cell_type": "markdown",
   "metadata": {},
   "source": [
    "# Пункт 1"
   ]
  },
  {
   "cell_type": "code",
   "execution_count": 21,
   "metadata": {},
   "outputs": [],
   "source": [
    "from sklearn.decomposition import TruncatedSVD"
   ]
  },
  {
   "cell_type": "code",
   "execution_count": 22,
   "metadata": {},
   "outputs": [
    {
     "name": "stdout",
     "output_type": "stream",
     "text": [
      "[40.65732704 15.97128223 15.06988473 11.94761471  7.69986789]\n",
      "n_components =  5 \n",
      "mse =  0.8286738976390197 \n",
      "rmse =  0.9103152737590531 \n",
      "\n",
      "\n",
      "[40.65732704 15.97128223 15.06988473 11.94761471  7.69986789  6.24031066]\n",
      "n_components =  6 \n",
      "mse =  0.41762290836592386 \n",
      "rmse =  0.646237501516218 \n",
      "\n",
      "\n",
      "[40.65732704 15.97128223 15.06988473 11.94761471  7.69986789  6.24031066\n",
      "  4.98555437]\n",
      "n_components =  7 \n",
      "mse =  0.21116516054967727 \n",
      "rmse =  0.4595271053481799 \n",
      "\n",
      "\n",
      "[40.65732704 15.97128223 15.06988473 11.94761471  7.69986789  6.24031066\n",
      "  4.98555437  3.72953874]\n",
      "n_components =  8 \n",
      "mse =  0.11160800857849648 \n",
      "rmse =  0.3340778480810969 \n",
      "\n",
      "\n",
      "[40.65732704 15.97128223 15.06988473 11.94761471  7.69986789  6.24031066\n",
      "  4.98555437  3.72953874  2.65675076]\n",
      "n_components =  9 \n",
      "mse =  1.3351470820865625e-29 \n",
      "rmse =  3.653966450429673e-15 \n",
      "\n",
      "\n"
     ]
    }
   ],
   "source": [
    "for n_comp in range(5, 10):\n",
    "    svd_trunc = TruncatedSVD(n_components=n_comp, n_iter=10, random_state=42)\n",
    "    svd_trunc.fit(R.values)\n",
    "    print(svd_trunc.singular_values_)\n",
    "    R_transformed = svd_trunc.transform(R.values)\n",
    "    U = R_transformed / svd_trunc.singular_values_\n",
    "    Sigma = np.diag(svd_trunc.singular_values_)\n",
    "    VT = svd_trunc.components_\n",
    "    mse_trunc = np.sum((R.values - U @ Sigma @ VT)[R.values != 0]**2) / np.sum(R.values != 0)\n",
    "    rmse_trunc = np.sqrt(np.sum((R.values - U @ Sigma @ VT)[R.values != 0]**2) / np.sum(R.values != 0))\n",
    "    print(\"n_components = \", n_comp, \"\\nmse = \", mse_trunc, \"\\nrmse = \", rmse_trunc, '\\n\\n')"
   ]
  },
  {
   "cell_type": "code",
   "execution_count": 23,
   "metadata": {},
   "outputs": [
    {
     "data": {
      "text/html": [
       "<style>#sk-container-id-1 {color: black;background-color: white;}#sk-container-id-1 pre{padding: 0;}#sk-container-id-1 div.sk-toggleable {background-color: white;}#sk-container-id-1 label.sk-toggleable__label {cursor: pointer;display: block;width: 100%;margin-bottom: 0;padding: 0.3em;box-sizing: border-box;text-align: center;}#sk-container-id-1 label.sk-toggleable__label-arrow:before {content: \"▸\";float: left;margin-right: 0.25em;color: #696969;}#sk-container-id-1 label.sk-toggleable__label-arrow:hover:before {color: black;}#sk-container-id-1 div.sk-estimator:hover label.sk-toggleable__label-arrow:before {color: black;}#sk-container-id-1 div.sk-toggleable__content {max-height: 0;max-width: 0;overflow: hidden;text-align: left;background-color: #f0f8ff;}#sk-container-id-1 div.sk-toggleable__content pre {margin: 0.2em;color: black;border-radius: 0.25em;background-color: #f0f8ff;}#sk-container-id-1 input.sk-toggleable__control:checked~div.sk-toggleable__content {max-height: 200px;max-width: 100%;overflow: auto;}#sk-container-id-1 input.sk-toggleable__control:checked~label.sk-toggleable__label-arrow:before {content: \"▾\";}#sk-container-id-1 div.sk-estimator input.sk-toggleable__control:checked~label.sk-toggleable__label {background-color: #d4ebff;}#sk-container-id-1 div.sk-label input.sk-toggleable__control:checked~label.sk-toggleable__label {background-color: #d4ebff;}#sk-container-id-1 input.sk-hidden--visually {border: 0;clip: rect(1px 1px 1px 1px);clip: rect(1px, 1px, 1px, 1px);height: 1px;margin: -1px;overflow: hidden;padding: 0;position: absolute;width: 1px;}#sk-container-id-1 div.sk-estimator {font-family: monospace;background-color: #f0f8ff;border: 1px dotted black;border-radius: 0.25em;box-sizing: border-box;margin-bottom: 0.5em;}#sk-container-id-1 div.sk-estimator:hover {background-color: #d4ebff;}#sk-container-id-1 div.sk-parallel-item::after {content: \"\";width: 100%;border-bottom: 1px solid gray;flex-grow: 1;}#sk-container-id-1 div.sk-label:hover label.sk-toggleable__label {background-color: #d4ebff;}#sk-container-id-1 div.sk-serial::before {content: \"\";position: absolute;border-left: 1px solid gray;box-sizing: border-box;top: 0;bottom: 0;left: 50%;z-index: 0;}#sk-container-id-1 div.sk-serial {display: flex;flex-direction: column;align-items: center;background-color: white;padding-right: 0.2em;padding-left: 0.2em;position: relative;}#sk-container-id-1 div.sk-item {position: relative;z-index: 1;}#sk-container-id-1 div.sk-parallel {display: flex;align-items: stretch;justify-content: center;background-color: white;position: relative;}#sk-container-id-1 div.sk-item::before, #sk-container-id-1 div.sk-parallel-item::before {content: \"\";position: absolute;border-left: 1px solid gray;box-sizing: border-box;top: 0;bottom: 0;left: 50%;z-index: -1;}#sk-container-id-1 div.sk-parallel-item {display: flex;flex-direction: column;z-index: 1;position: relative;background-color: white;}#sk-container-id-1 div.sk-parallel-item:first-child::after {align-self: flex-end;width: 50%;}#sk-container-id-1 div.sk-parallel-item:last-child::after {align-self: flex-start;width: 50%;}#sk-container-id-1 div.sk-parallel-item:only-child::after {width: 0;}#sk-container-id-1 div.sk-dashed-wrapped {border: 1px dashed gray;margin: 0 0.4em 0.5em 0.4em;box-sizing: border-box;padding-bottom: 0.4em;background-color: white;}#sk-container-id-1 div.sk-label label {font-family: monospace;font-weight: bold;display: inline-block;line-height: 1.2em;}#sk-container-id-1 div.sk-label-container {text-align: center;}#sk-container-id-1 div.sk-container {/* jupyter's `normalize.less` sets `[hidden] { display: none; }` but bootstrap.min.css set `[hidden] { display: none !important; }` so we also need the `!important` here to be able to override the default hidden behavior on the sphinx rendered scikit-learn.org. See: https://github.com/scikit-learn/scikit-learn/issues/21755 */display: inline-block !important;position: relative;}#sk-container-id-1 div.sk-text-repr-fallback {display: none;}</style><div id=\"sk-container-id-1\" class=\"sk-top-container\"><div class=\"sk-text-repr-fallback\"><pre>TruncatedSVD(n_components=7, n_iter=10, random_state=42)</pre><b>In a Jupyter environment, please rerun this cell to show the HTML representation or trust the notebook. <br />On GitHub, the HTML representation is unable to render, please try loading this page with nbviewer.org.</b></div><div class=\"sk-container\" hidden><div class=\"sk-item\"><div class=\"sk-estimator sk-toggleable\"><input class=\"sk-toggleable__control sk-hidden--visually\" id=\"sk-estimator-id-1\" type=\"checkbox\" checked><label for=\"sk-estimator-id-1\" class=\"sk-toggleable__label sk-toggleable__label-arrow\">TruncatedSVD</label><div class=\"sk-toggleable__content\"><pre>TruncatedSVD(n_components=7, n_iter=10, random_state=42)</pre></div></div></div></div></div>"
      ],
      "text/plain": [
       "TruncatedSVD(n_components=7, n_iter=10, random_state=42)"
      ]
     },
     "execution_count": 23,
     "metadata": {},
     "output_type": "execute_result"
    }
   ],
   "source": [
    "svd_trunc = TruncatedSVD(n_components=7, n_iter=10, random_state=42)\n",
    "svd_trunc.fit(R.values)"
   ]
  },
  {
   "cell_type": "code",
   "execution_count": 24,
   "metadata": {},
   "outputs": [
    {
     "name": "stdout",
     "output_type": "stream",
     "text": [
      "[40.65732704 15.97128223 15.06988473 11.94761471  7.69986789  6.24031066\n",
      "  4.98555437]\n"
     ]
    }
   ],
   "source": [
    "print(svd_trunc.singular_values_)"
   ]
  },
  {
   "cell_type": "code",
   "execution_count": 25,
   "metadata": {},
   "outputs": [],
   "source": [
    "R_transformed = svd_trunc.transform(R.values)\n",
    "U = R_transformed / svd_trunc.singular_values_\n",
    "Sigma = np.diag(svd_trunc.singular_values_)\n",
    "VT = svd_trunc.components_"
   ]
  },
  {
   "cell_type": "code",
   "execution_count": 26,
   "metadata": {},
   "outputs": [
    {
     "name": "stdout",
     "output_type": "stream",
     "text": [
      "mse =  0.21116516054967727 \n",
      "rmse =  0.4595271053481799\n"
     ]
    }
   ],
   "source": [
    "mse_trunc = np.sum((R.values - U @ Sigma @ VT)[R.values != 0]**2) / np.sum(R.values != 0)\n",
    "rmse_trunc = np.sqrt(np.sum((R.values - U @ Sigma @ VT)[R.values != 0]**2) / np.sum(R.values != 0))\n",
    "print(\"mse = \", mse_trunc, \"\\nrmse = \", rmse_trunc)"
   ]
  },
  {
   "cell_type": "code",
   "execution_count": 27,
   "metadata": {},
   "outputs": [
    {
     "name": "stdout",
     "output_type": "stream",
     "text": [
      "Варинт без умножения на сигма матрицу:\n",
      "mse =  37.040680687321405 \n",
      "rmse =  6.0861055435575055\n"
     ]
    }
   ],
   "source": [
    "mse_trunc = np.sum((R.values - U @ VT)[R.values != 0]**2) / np.sum(R.values != 0)\n",
    "rmse_trunc = np.sqrt(np.sum((R.values - U @ VT)[R.values != 0]**2) / np.sum(R.values != 0))\n",
    "print(\"Варинт без умножения на сигма матрицу:\")\n",
    "print(\"mse = \", mse_trunc, \"\\nrmse = \", rmse_trunc)"
   ]
  },
  {
   "cell_type": "markdown",
   "metadata": {},
   "source": [
    "# Пункт 2"
   ]
  },
  {
   "cell_type": "code",
   "execution_count": 28,
   "metadata": {},
   "outputs": [],
   "source": [
    "from surprise import SVD\n",
    "from surprise.dataset import DatasetAutoFolds \n",
    "from surprise import Reader"
   ]
  },
  {
   "attachments": {
    "image.png": {
     "image/png": "[encoded data removed]"
    }
   },
   "cell_type": "markdown",
   "metadata": {},
   "source": [
    "![image.png](attachment:image.png)"
   ]
  },
  {
   "cell_type": "code",
   "execution_count": 29,
   "metadata": {},
   "outputs": [
    {
     "data": {
      "text/plain": [
       "<surprise.prediction_algorithms.matrix_factorization.SVD at 0x7fa492ed23a0>"
      ]
     },
     "execution_count": 29,
     "metadata": {},
     "output_type": "execute_result"
    }
   ],
   "source": [
    "R_sur = R.stack().reset_index()\n",
    "R_sur.columns = ['ID_film', 'ID_user', 'rating']\n",
    "reader = Reader(rating_scale=(min(R.min()), max(R.max())))\n",
    "trainset = DatasetAutoFolds(reader=reader, df=R_sur[[\"ID_user\", \"ID_film\", \"rating\"]]).build_full_trainset() \n",
    "svd_sur = SVD(biased = False) \n",
    "svd_sur.fit(trainset) "
   ]
  },
  {
   "cell_type": "code",
   "execution_count": 30,
   "metadata": {},
   "outputs": [
    {
     "data": {
      "text/plain": [
       "{'n_factors': 100,\n",
       " 'n_epochs': 20,\n",
       " 'biased': False,\n",
       " 'init_mean': 0,\n",
       " 'init_std_dev': 0.1,\n",
       " 'lr_bu': 0.005,\n",
       " 'lr_bi': 0.005,\n",
       " 'lr_pu': 0.005,\n",
       " 'lr_qi': 0.005,\n",
       " 'reg_bu': 0.02,\n",
       " 'reg_bi': 0.02,\n",
       " 'reg_pu': 0.02,\n",
       " 'reg_qi': 0.02,\n",
       " 'random_state': None,\n",
       " 'verbose': False,\n",
       " 'bsl_options': {},\n",
       " 'sim_options': {'user_based': True},\n",
       " 'trainset': <surprise.trainset.Trainset at 0x7fa492ed2400>,\n",
       " 'bu': array([0., 0., 0., 0., 0., 0., 0., 0., 0., 0., 0.]),\n",
       " 'bi': array([0., 0., 0., 0., 0., 0., 0., 0., 0.]),\n",
       " 'pu': array([[ 0.34193618, -0.13623605,  0.10425151, ..., -0.12347696,\n",
       "          0.06025818,  0.13716648],\n",
       "        [ 0.01601931, -0.15721592, -0.03494484, ..., -0.04265632,\n",
       "          0.13192151,  0.12282295],\n",
       "        [ 0.0149595 ,  0.04261493,  0.03279102, ..., -0.17337844,\n",
       "         -0.04759529,  0.06906173],\n",
       "        ...,\n",
       "        [ 0.41958501, -0.0655739 ,  0.21766731, ..., -0.06328551,\n",
       "         -0.19014423,  0.37441177],\n",
       "        [-0.15568789, -0.1883232 , -0.17916384, ..., -0.11915734,\n",
       "          0.04367618,  0.2713933 ],\n",
       "        [ 0.03449961, -0.05690451,  0.08488302, ...,  0.09235309,\n",
       "          0.06611533,  0.14061081]]),\n",
       " 'qi': array([[ 4.84889886e-01, -1.33669561e-02, -3.07939020e-02,\n",
       "         -1.46776414e-01, -1.43558639e-01, -1.83822357e-01,\n",
       "         -2.26950821e-01,  2.05186236e-02, -4.54464587e-01,\n",
       "          9.68608110e-02, -4.06461847e-01,  4.37414179e-01,\n",
       "         -3.69493935e-01,  8.89776691e-02, -1.28669995e-01,\n",
       "          4.28064591e-02,  2.63169362e-01, -1.15812623e-02,\n",
       "          4.07836876e-01, -8.39673752e-01, -6.96079315e-01,\n",
       "         -2.72404854e-01, -3.01884921e-01, -7.63280010e-01,\n",
       "          2.96229632e-01, -2.58757477e-01, -1.95041701e-02,\n",
       "          5.86963336e-01, -4.06804320e-02,  2.01241744e-01,\n",
       "         -3.50044842e-02, -1.20577468e-01, -1.58167734e-02,\n",
       "         -2.67217826e-02,  2.06682302e-01, -2.28836606e-01,\n",
       "          1.61095973e-01, -2.84344679e-01, -1.45547295e-01,\n",
       "         -1.32804378e-01, -2.24151980e-01,  7.77224201e-02,\n",
       "          3.21398233e-01, -3.10769719e-01,  1.81234713e-01,\n",
       "         -4.61610985e-02, -2.62685271e-01,  5.16491416e-01,\n",
       "          3.53625329e-01,  3.53730141e-01,  3.06924361e-01,\n",
       "          1.24242499e-01,  3.43452688e-01,  1.26781407e-01,\n",
       "          7.28832533e-02,  1.39350862e-01, -4.60021378e-01,\n",
       "         -6.72381537e-02, -5.62418218e-01, -1.57009671e-01,\n",
       "          3.25624698e-01, -1.15033389e-01,  2.17694120e-01,\n",
       "          4.84469543e-01,  7.02582079e-02, -4.18113441e-02,\n",
       "         -1.08432384e-01,  3.68015923e-01, -2.02680697e-01,\n",
       "          1.25156383e-01,  3.01656558e-01, -3.80678270e-01,\n",
       "          1.65374977e-01, -5.53251509e-01,  4.94325515e-02,\n",
       "         -3.12452420e-01,  6.23292821e-03,  3.54849986e-01,\n",
       "         -4.54125066e-01,  3.53802874e-01, -6.24535372e-02,\n",
       "          1.52108981e-01, -4.20444041e-01, -1.50280544e-01,\n",
       "         -4.14042701e-01, -1.95402374e-01, -2.71425559e-01,\n",
       "          2.18291200e-01, -4.62220609e-01,  1.06434195e-01,\n",
       "          1.61419047e-01, -5.18594411e-02,  1.20890554e-01,\n",
       "         -3.50422919e-01,  4.00994809e-01, -2.00822555e-01,\n",
       "         -4.80037736e-01, -2.16797556e-02,  7.34662537e-02,\n",
       "          3.21327777e-01],\n",
       "        [ 1.68458915e-01,  1.75052867e-01,  3.48357237e-02,\n",
       "          4.09833547e-01, -5.18721923e-01, -1.98397766e-02,\n",
       "         -2.31393641e-01,  9.38552206e-02,  4.22233956e-02,\n",
       "          5.52510760e-02,  1.85904525e-01,  5.02735454e-01,\n",
       "         -4.07273243e-01,  1.86016915e-01,  1.43736704e-01,\n",
       "         -3.32226563e-01, -9.56118228e-02,  8.10508302e-02,\n",
       "         -1.10170869e-01, -5.86420787e-01, -4.89580807e-01,\n",
       "         -2.21441414e-01, -2.65267849e-01, -3.85771789e-01,\n",
       "          4.04538898e-01,  1.91293333e-01, -1.08438289e-01,\n",
       "          2.20345481e-01,  1.20171759e-01,  3.02259984e-01,\n",
       "         -1.11414978e-01,  1.38473920e-01, -3.88072459e-01,\n",
       "         -3.34140373e-01,  1.18726845e-01, -2.02591666e-01,\n",
       "          3.55943604e-01, -8.97058399e-03, -4.63208262e-02,\n",
       "         -2.00245982e-01, -1.33936509e-01,  1.61259683e-01,\n",
       "          2.58618877e-01, -6.33920069e-01, -6.30725812e-02,\n",
       "          5.39044047e-03, -6.59802585e-02,  3.91508945e-01,\n",
       "          2.04371127e-01,  8.10278685e-02,  3.98172603e-02,\n",
       "          1.12181518e-01,  4.09696638e-02,  2.71841593e-01,\n",
       "         -2.81398313e-01,  1.28056471e-02, -5.48919743e-01,\n",
       "         -4.92803735e-03, -4.50383601e-02,  3.07629426e-01,\n",
       "          2.72103824e-01, -2.85309734e-02,  5.85165337e-01,\n",
       "         -8.24578482e-02, -1.78584955e-01, -3.30226423e-01,\n",
       "         -6.96681570e-02,  3.92063146e-01, -4.83158091e-02,\n",
       "          4.02988869e-02,  2.61367626e-01, -3.77454980e-01,\n",
       "          1.31256071e-02, -2.95036858e-01,  4.92655242e-02,\n",
       "         -3.05790872e-01,  4.17200745e-01,  4.43785195e-01,\n",
       "         -2.02813192e-01, -9.05933720e-03,  2.12942168e-01,\n",
       "          1.18003966e-01, -3.92945352e-01, -1.53471386e-01,\n",
       "         -4.21596727e-01,  1.47807723e-01, -6.84928691e-01,\n",
       "          2.11701058e-01, -3.32507649e-01,  4.21235427e-01,\n",
       "         -2.01017619e-02, -2.05891320e-01,  2.78750375e-01,\n",
       "         -1.65060977e-01,  4.26221955e-01, -7.76733899e-02,\n",
       "         -3.96749605e-01,  6.54934309e-02, -1.57761923e-01,\n",
       "          9.98226731e-02],\n",
       "        [ 2.02053978e-01, -1.63322343e-01,  1.41696885e-01,\n",
       "          9.15108814e-02, -3.31691650e-01, -3.48279530e-01,\n",
       "         -1.79879577e-01, -5.32748399e-03, -6.05807645e-01,\n",
       "          3.24153020e-02, -5.23930607e-01,  4.45949358e-01,\n",
       "         -3.84069606e-01,  3.08434571e-01,  1.46835973e-02,\n",
       "          9.92657018e-02,  1.69547746e-01,  5.84750111e-02,\n",
       "          4.25583818e-01, -1.27441576e+00, -4.52670856e-01,\n",
       "         -8.65383634e-02, -4.28763949e-01, -5.03159286e-01,\n",
       "          2.34013147e-01, -1.36072465e-01, -3.18990019e-02,\n",
       "          1.50385411e-01,  1.32473739e-01,  1.42287328e-01,\n",
       "         -1.07405363e-02, -3.46693253e-02, -8.14329694e-02,\n",
       "          1.20357719e-01,  7.30101417e-02, -3.68093133e-01,\n",
       "          1.22259846e-01, -3.70821597e-01, -9.76363396e-02,\n",
       "         -2.86313436e-01, -3.95192075e-01,  7.65193208e-02,\n",
       "          3.73543695e-01, -3.05095241e-01,  1.68484459e-01,\n",
       "         -1.73014194e-02,  1.30722142e-02,  3.94712508e-01,\n",
       "          5.08735915e-01,  3.81429213e-01,  1.18673788e-01,\n",
       "          4.91245423e-02,  3.43573443e-01,  1.67387681e-01,\n",
       "          2.21162836e-01,  2.05790491e-01, -2.87396797e-01,\n",
       "         -1.33502297e-01, -3.44708171e-01,  3.96972928e-02,\n",
       "          7.50113881e-02, -2.40296441e-01,  4.68614525e-01,\n",
       "          4.03410103e-01,  2.02273643e-01, -2.27750236e-01,\n",
       "         -2.77392171e-01,  3.96880040e-01, -1.96003906e-02,\n",
       "          9.16930961e-02,  2.72871135e-01, -5.24807201e-01,\n",
       "          2.67955521e-01, -3.81961724e-01, -6.16695049e-04,\n",
       "         -1.74631842e-01,  3.56472984e-02,  1.88037083e-01,\n",
       "         -4.69952169e-01,  2.91547742e-01, -5.99468723e-02,\n",
       "          2.62827459e-01, -4.32100745e-01, -8.64534768e-02,\n",
       "         -3.77374765e-01, -2.86898778e-01, -4.52727062e-01,\n",
       "          3.01845335e-01, -6.59540296e-01,  1.67031657e-01,\n",
       "          2.57893596e-02, -1.37507313e-01,  2.21795721e-01,\n",
       "         -5.65725450e-02,  3.40423993e-01, -5.13297444e-01,\n",
       "         -4.32853970e-01, -1.41835245e-01,  9.36340630e-03,\n",
       "          1.99478848e-01],\n",
       "        [ 2.87327986e-01, -5.59715636e-02, -8.19764410e-02,\n",
       "          2.30707470e-01, -3.35530452e-01, -2.65387698e-01,\n",
       "         -2.82377098e-01,  1.74195394e-01, -2.12405804e-02,\n",
       "         -2.56805403e-01,  1.31660390e-01,  2.58359121e-01,\n",
       "         -5.42062751e-01,  3.44636151e-01,  1.46923370e-01,\n",
       "         -2.08682352e-01,  3.95139880e-02,  1.57560175e-01,\n",
       "          2.82353467e-01, -3.27217838e-01, -2.95422535e-01,\n",
       "         -1.89166765e-01, -1.99940015e-01, -3.26043534e-01,\n",
       "          2.48912864e-01,  2.14089930e-02, -1.61856923e-01,\n",
       "          1.75796331e-01,  1.63536836e-01, -1.49996466e-01,\n",
       "          2.19156445e-02, -3.58507623e-02, -1.50626131e-01,\n",
       "         -3.38403180e-01,  8.65923046e-02, -9.79249332e-02,\n",
       "          5.97045585e-01, -6.93772192e-02,  2.79274037e-01,\n",
       "         -1.45188732e-01, -4.92579833e-02,  1.53893609e-02,\n",
       "         -7.39824237e-02, -4.59520934e-01, -7.86337094e-02,\n",
       "         -1.06250831e-01, -3.04580394e-02,  5.53601287e-02,\n",
       "          9.15165178e-02, -3.26977215e-01,  2.12617052e-01,\n",
       "          3.74904042e-01, -9.91296640e-02,  7.77321797e-02,\n",
       "         -1.83368237e-02, -1.19561396e-01, -4.81891957e-01,\n",
       "          5.67068281e-02, -1.48121955e-01,  3.27314125e-01,\n",
       "          7.14006670e-02, -1.59284786e-01,  6.14617357e-01,\n",
       "          1.05985991e-01, -4.91728999e-02, -3.84114636e-01,\n",
       "         -1.08644943e-01,  2.98085726e-02, -1.19521184e-01,\n",
       "         -1.81719188e-01,  3.80904589e-01, -1.20354791e-01,\n",
       "          1.12184546e-02, -2.40958165e-01,  1.26514178e-01,\n",
       "         -3.48639274e-01,  2.24293147e-01,  3.81735774e-01,\n",
       "         -4.32345165e-01,  6.42260078e-02,  3.53819469e-01,\n",
       "          3.16459922e-02, -4.21173168e-01, -4.56966087e-01,\n",
       "         -5.21312248e-01,  2.90306483e-01, -4.20109228e-01,\n",
       "          2.74064061e-01, -2.56230343e-01,  1.35873289e-02,\n",
       "         -9.55547948e-02, -1.76467595e-01,  3.02239095e-01,\n",
       "         -2.84802272e-01,  3.60277610e-01,  9.26810655e-02,\n",
       "         -4.88344793e-01,  3.15856256e-01,  1.02337073e-01,\n",
       "         -2.59157092e-01],\n",
       "        [-1.31480367e-01,  4.33858069e-02, -2.28818949e-01,\n",
       "          3.66295456e-01, -8.15669036e-02, -3.31778038e-01,\n",
       "         -2.65339086e-01,  2.30973452e-02, -1.00762172e-01,\n",
       "          2.31505322e-01, -1.78900658e-01,  2.10658521e-01,\n",
       "         -2.11555073e-01,  3.70901592e-01,  9.64805200e-02,\n",
       "          1.09545028e-01,  2.75473194e-01,  1.12318443e-01,\n",
       "          1.65171366e-02, -4.44346476e-01, -3.14081419e-01,\n",
       "         -2.30731067e-01, -1.67531342e-01, -1.84123670e-01,\n",
       "          2.92146482e-01,  2.34629580e-01, -2.75691428e-01,\n",
       "         -2.31401389e-01,  6.92320390e-02, -2.70014091e-01,\n",
       "         -1.65092583e-01,  9.34156983e-02, -1.29338829e-01,\n",
       "         -4.93978013e-01,  1.84001624e-01,  1.06207654e-02,\n",
       "         -8.70064004e-02,  1.45003887e-02,  7.88211002e-02,\n",
       "         -1.01394553e-01, -2.15774535e-01,  4.84595773e-02,\n",
       "          4.52083947e-01, -7.43521416e-03, -4.11744212e-02,\n",
       "          9.31054901e-02, -2.31175220e-02,  3.94946925e-01,\n",
       "          9.55425900e-02, -8.67872898e-02,  5.03369923e-03,\n",
       "          6.28472740e-02, -6.66413684e-02,  1.29649998e-01,\n",
       "         -5.11264583e-03, -1.41879956e-01, -4.34033292e-01,\n",
       "         -4.60701694e-02, -2.12739781e-01,  1.88059569e-01,\n",
       "          3.26308173e-01, -2.38876965e-01,  4.91511956e-01,\n",
       "          1.31831776e-01,  2.07248517e-01, -3.43920335e-01,\n",
       "         -1.48199289e-01,  7.51314286e-02, -1.75210089e-01,\n",
       "         -3.07084508e-02, -1.52299630e-01, -1.47141966e-01,\n",
       "          1.56253250e-01, -2.89128109e-01, -3.63951429e-02,\n",
       "          1.94139407e-02,  1.03297896e-01, -2.64314903e-02,\n",
       "         -4.92250672e-01, -5.12085751e-02, -4.57684327e-02,\n",
       "         -6.61557947e-02, -2.33544818e-01,  1.48430713e-01,\n",
       "         -3.62488390e-01,  1.48440035e-02, -4.57790840e-01,\n",
       "          5.22603445e-02, -3.17330446e-01,  2.07997179e-01,\n",
       "         -4.43500477e-02, -2.27508248e-01,  3.12795953e-01,\n",
       "          4.91433315e-02,  4.51729136e-01,  1.15007354e-01,\n",
       "         -3.13190873e-02,  6.48543693e-02, -8.68109468e-02,\n",
       "         -1.17807210e-01],\n",
       "        [ 4.83699033e-01, -3.88461861e-02,  3.93335313e-01,\n",
       "          1.83979632e-02, -2.58013908e-01,  3.61598449e-01,\n",
       "         -2.40917061e-01, -9.11767283e-02,  7.73825127e-02,\n",
       "          2.15078167e-02,  2.57494664e-01,  2.47460530e-01,\n",
       "         -1.84526147e-01,  3.87099358e-03, -1.67621027e-01,\n",
       "         -8.22943585e-02,  1.06388112e-01, -1.30271155e-01,\n",
       "          4.00074230e-02, -3.29781120e-01, -2.02489676e-01,\n",
       "          1.18419725e-02, -1.73980104e-01, -9.73287608e-03,\n",
       "          3.08412087e-01, -5.97434947e-03, -2.13592753e-01,\n",
       "          5.45612442e-01, -1.42328411e-02, -2.77907762e-02,\n",
       "          5.20778516e-02,  3.92447255e-02, -1.79741260e-01,\n",
       "          1.72076514e-01,  1.75530997e-01, -8.69423387e-02,\n",
       "          2.10855164e-01, -1.33642990e-01, -2.38594543e-01,\n",
       "         -1.43616464e-01, -1.89047050e-01,  3.60475673e-01,\n",
       "         -2.85344428e-01, -1.70718541e-01,  5.77276354e-02,\n",
       "          1.18779324e-01, -1.35874284e-01,  1.78737858e-01,\n",
       "         -4.54884525e-02,  2.33216152e-01, -4.72845726e-02,\n",
       "          7.77603528e-04,  1.85596657e-01, -1.69205469e-01,\n",
       "          5.16397443e-02,  2.01281427e-02, -4.21367993e-02,\n",
       "         -8.66423199e-02, -3.03748837e-01,  8.25544354e-02,\n",
       "         -9.49743037e-02, -2.76915730e-01,  6.84743935e-02,\n",
       "         -3.06736093e-02,  2.79612899e-01,  1.96274236e-01,\n",
       "         -9.44634225e-02,  2.33073007e-02,  2.01116551e-03,\n",
       "          2.89582910e-02,  3.83354695e-01, -2.19832188e-01,\n",
       "         -1.49518240e-01, -3.87445249e-01,  7.77286356e-02,\n",
       "          1.26759371e-03, -1.17666840e-01,  3.17203124e-01,\n",
       "         -2.69990571e-01,  1.39895320e-01,  2.28383373e-02,\n",
       "         -2.42561719e-01, -1.80462621e-01, -4.99760319e-01,\n",
       "         -3.04234872e-01,  2.94705425e-02, -1.11955446e-02,\n",
       "          2.40272568e-01, -1.42730475e-01,  1.93160515e-01,\n",
       "         -8.21864144e-02,  1.48405619e-01, -4.98681312e-02,\n",
       "         -1.54902536e-01, -3.26456527e-01, -5.14275530e-01,\n",
       "         -4.81470126e-01,  4.02914264e-02,  7.07407722e-02,\n",
       "          2.98040390e-01],\n",
       "        [-8.19620581e-02,  2.28603196e-01, -6.60421192e-02,\n",
       "          2.36866170e-02, -2.58976115e-01, -4.21897251e-01,\n",
       "         -6.17949295e-02, -1.67284484e-01, -1.71409339e-01,\n",
       "          7.15926037e-03, -2.38237516e-01,  2.48403619e-01,\n",
       "         -3.70265173e-01,  1.44008341e-01,  1.70397085e-01,\n",
       "          4.84643078e-02,  1.56524817e-01, -9.68630572e-02,\n",
       "          2.24131928e-01, -6.55638809e-01, -5.07169192e-01,\n",
       "         -5.28659707e-02, -7.72330846e-05, -5.24650686e-01,\n",
       "          1.69565041e-01,  1.85836095e-01, -1.84923873e-01,\n",
       "         -1.41540252e-01,  6.27962050e-02, -7.51556325e-02,\n",
       "         -3.11835771e-02, -1.42412907e-02, -1.76167858e-01,\n",
       "         -4.11377001e-01,  2.02303786e-01, -2.65252555e-01,\n",
       "          8.06807791e-02, -9.25475015e-02,  2.08945227e-01,\n",
       "         -4.51285464e-02, -9.33387027e-02, -1.77110847e-01,\n",
       "          4.05269651e-01, -2.39198272e-01,  1.38056140e-01,\n",
       "          3.88945311e-02,  1.62684795e-01,  3.30867795e-01,\n",
       "          2.88683845e-01,  8.41781661e-02,  9.07947378e-02,\n",
       "          1.73586202e-01,  4.96125297e-02,  2.84304373e-01,\n",
       "          2.06434355e-01, -9.34232794e-02, -4.52506462e-01,\n",
       "         -2.04371014e-02, -3.39009623e-01,  5.22975172e-02,\n",
       "          2.54399042e-01, -3.54227682e-01,  5.47548973e-01,\n",
       "          2.32791021e-01,  2.17336880e-02, -3.49231617e-01,\n",
       "         -1.04855212e-01,  1.10380789e-01, -5.27275782e-01,\n",
       "         -1.92201114e-01,  3.90379949e-01, -1.44698844e-01,\n",
       "          1.02729425e-02, -8.39568901e-02, -3.76391940e-02,\n",
       "         -1.02061727e-01,  7.65101068e-03, -9.30507791e-02,\n",
       "         -4.00774759e-01,  7.62248513e-02, -7.79688035e-02,\n",
       "          3.87948034e-02, -1.80397207e-01,  2.63129983e-03,\n",
       "         -3.83171641e-01,  2.17180211e-01, -2.31099362e-01,\n",
       "          1.22187149e-01, -2.87357644e-01,  2.31462967e-01,\n",
       "          2.69037207e-01, -1.32523585e-01,  3.89436138e-01,\n",
       "         -2.53635518e-01,  4.84466063e-01, -1.24757369e-02,\n",
       "         -2.41268306e-01, -3.97431147e-02, -2.04618799e-01,\n",
       "         -5.43395750e-02],\n",
       "        [ 7.14609862e-03, -1.10216535e-01, -1.39389655e-01,\n",
       "          2.03796172e-04, -2.75469331e-01, -6.33018886e-01,\n",
       "         -3.94423155e-01, -5.02298231e-02, -4.13809666e-01,\n",
       "          3.82355719e-01, -4.09749163e-01,  5.65843632e-03,\n",
       "         -5.29741472e-01, -6.40253731e-02,  3.70003975e-01,\n",
       "          1.40957213e-01,  3.33426214e-01, -6.30455709e-02,\n",
       "          4.77162070e-01, -8.71462209e-01, -3.05599749e-01,\n",
       "         -1.69177948e-01, -4.36638288e-02, -5.56085660e-01,\n",
       "          3.66329826e-01, -3.09283047e-01, -1.38614164e-01,\n",
       "          3.14833677e-01, -8.95369353e-02, -3.28786768e-01,\n",
       "         -5.15838085e-01,  4.02639327e-01, -1.13295772e-01,\n",
       "         -4.28812101e-01,  1.47505755e-01, -8.72557116e-02,\n",
       "         -6.44337186e-02,  9.01218756e-02,  3.83323793e-01,\n",
       "         -2.89196148e-01, -2.25666144e-01,  7.05029590e-02,\n",
       "          4.05715734e-01, -2.39582678e-01,  1.35542799e-01,\n",
       "          2.00711486e-01,  1.33535166e-01,  1.38372343e-01,\n",
       "          5.33588634e-01,  3.31722417e-02,  1.09172363e-01,\n",
       "          4.24589416e-01,  7.85506649e-02,  5.16010249e-02,\n",
       "          3.65968973e-01, -2.58495118e-01, -3.43684282e-01,\n",
       "         -1.27864859e-02, -2.86823833e-01,  2.50514942e-01,\n",
       "          8.17273566e-03, -1.50080902e-01,  6.66560973e-01,\n",
       "          4.12717739e-01,  4.05700531e-01, -1.99874573e-01,\n",
       "         -1.29109216e-01,  4.11765142e-01, -4.01546451e-01,\n",
       "         -1.99175193e-01,  1.69528893e-01, -2.13742016e-01,\n",
       "          4.34477135e-01, -3.84530161e-01,  8.46595611e-02,\n",
       "         -8.87303366e-02, -1.31334003e-01, -2.32454782e-01,\n",
       "         -7.01126538e-01,  4.26321747e-01,  1.72761036e-01,\n",
       "         -1.74082971e-01, -2.82444145e-01,  1.70113989e-01,\n",
       "         -5.06577048e-01, -2.16932790e-01,  1.21352457e-01,\n",
       "         -2.75206970e-01, -1.22357654e-01,  1.76438796e-01,\n",
       "          3.95421509e-02, -2.06777772e-01, -1.44647052e-01,\n",
       "          4.32520279e-02,  3.88701826e-01, -1.29236006e-01,\n",
       "         -1.09399843e-01, -1.94158853e-01, -1.69333956e-01,\n",
       "          1.62408441e-01],\n",
       "        [ 6.78509754e-02,  8.47032817e-03,  6.29311570e-02,\n",
       "         -7.45076463e-02, -3.37298112e-01, -1.08156512e-02,\n",
       "         -4.02389787e-01,  1.16928788e-01, -1.72610333e-01,\n",
       "         -1.76985458e-01, -7.99787481e-02,  6.97185813e-02,\n",
       "          7.79984792e-02, -9.51771763e-02,  2.12232646e-01,\n",
       "          1.43714536e-01, -3.56538975e-02, -1.98463384e-01,\n",
       "         -4.15461247e-02, -4.25554686e-01, -3.68918760e-01,\n",
       "         -2.48307893e-01, -3.59248898e-01, -2.31780874e-01,\n",
       "          1.79829002e-01,  1.09311492e-01, -1.54318657e-01,\n",
       "         -1.43562623e-02,  9.53489780e-02,  2.92121791e-01,\n",
       "         -1.23922549e-01,  9.31236603e-02, -3.64053616e-01,\n",
       "         -1.19234535e-01,  5.48396879e-03, -6.11179119e-01,\n",
       "          1.56010165e-01, -3.69305112e-01, -5.93027019e-02,\n",
       "         -4.00742564e-01,  3.00177408e-04, -7.50996933e-02,\n",
       "          2.88932468e-01, -2.24605183e-01,  5.48307020e-02,\n",
       "          4.27690831e-02, -5.59465237e-02,  3.04160314e-01,\n",
       "         -2.77712952e-02,  1.08065685e-01,  1.35301280e-01,\n",
       "         -1.43476128e-02, -1.46003562e-01,  1.74764999e-01,\n",
       "         -1.52322112e-01, -1.27129529e-01, -8.58689671e-02,\n",
       "         -5.83772199e-03, -8.39955909e-02,  9.04741375e-02,\n",
       "          3.24561367e-01, -8.87007738e-02,  1.37009312e-01,\n",
       "          3.15152406e-02, -1.95890132e-01, -3.25770208e-01,\n",
       "         -3.66966468e-01,  2.77200474e-01, -1.34226034e-01,\n",
       "          5.88160902e-02,  4.71239876e-01, -2.31805267e-01,\n",
       "         -7.67337183e-02, -5.50789031e-02, -1.46844402e-01,\n",
       "         -2.73682035e-01, -1.12069786e-02,  2.85598637e-01,\n",
       "         -2.96223051e-02, -1.52651100e-01,  2.55188479e-01,\n",
       "          2.18781121e-01, -2.30396122e-01, -1.31080411e-01,\n",
       "         -5.06590599e-01, -5.98240670e-03, -5.03000848e-01,\n",
       "          4.61945043e-01, -2.93217105e-01,  7.27093691e-01,\n",
       "          1.41260212e-01,  1.07927392e-01,  9.18178465e-02,\n",
       "         -1.43383030e-01,  1.90262903e-01, -4.38426755e-02,\n",
       "         -3.07639065e-01,  9.92980541e-02, -3.90805308e-01,\n",
       "          1.32244446e-01]])}"
      ]
     },
     "execution_count": 30,
     "metadata": {},
     "output_type": "execute_result"
    }
   ],
   "source": [
    "svd_sur.__dict__"
   ]
  },
  {
   "cell_type": "code",
   "execution_count": 31,
   "metadata": {},
   "outputs": [
    {
     "name": "stdout",
     "output_type": "stream",
     "text": [
      "mse =  3.9191221956721876 \n",
      "rmse =  1.9796772958419733\n"
     ]
    }
   ],
   "source": [
    "R_sur_cap = svd_sur.qi @ svd_sur.pu.T\n",
    "mse_sur = np.sum((R.values - R_sur_cap)[R.values != 0]**2) / np.sum(R.values != 0)\n",
    "rmse_sur = np.sqrt(np.sum((R.values - R_sur_cap)[R.values != 0]**2) / np.sum(R.values != 0))\n",
    "print(\"mse = \", mse_sur, \"\\nrmse = \", rmse_sur)"
   ]
  },
  {
   "cell_type": "markdown",
   "metadata": {},
   "source": [
    "# Пункт 3"
   ]
  },
  {
   "cell_type": "code",
   "execution_count": 32,
   "metadata": {},
   "outputs": [],
   "source": [
    "import scipy.sparse as sp\n",
    "from scipy.sparse.linalg import svds"
   ]
  },
  {
   "cell_type": "code",
   "execution_count": 33,
   "metadata": {},
   "outputs": [],
   "source": [
    "u, s, vt = svds(np.array(R.values, dtype=float), k = 7)"
   ]
  },
  {
   "cell_type": "code",
   "execution_count": 34,
   "metadata": {},
   "outputs": [
    {
     "name": "stdout",
     "output_type": "stream",
     "text": [
      "mse =  0.21116516054967743 \n",
      "rmse =  0.45952710534818014\n"
     ]
    }
   ],
   "source": [
    "mse_svds = np.sum((R.values - u @ np.diag(s) @ vt)[R.values != 0]**2) / np.sum(R.values != 0)\n",
    "rmse_svds = np.sqrt(np.sum((R.values - u @ np.diag(s) @ vt)[R.values != 0]**2) / np.sum(R.values != 0))\n",
    "print(\"mse = \", mse_svds, \"\\nrmse = \", rmse_svds)"
   ]
  },
  {
   "cell_type": "code",
   "execution_count": 35,
   "metadata": {},
   "outputs": [
    {
     "name": "stdout",
     "output_type": "stream",
     "text": [
      "Вариант без умножения на сигма матрицу:\n",
      "mse =  37.040680687321405 \n",
      "rmse =  6.0861055435575055\n"
     ]
    }
   ],
   "source": [
    "mse_svds = np.sum((R.values - u @ vt)[R.values != 0]**2) / np.sum(R.values != 0)\n",
    "rmse_svds = np.sqrt(np.sum((R.values - u @ vt)[R.values != 0]**2) / np.sum(R.values != 0))\n",
    "print(\"Вариант без умножения на сигма матрицу:\")\n",
    "print(\"mse = \", mse_svds, \"\\nrmse = \", rmse_svds)"
   ]
  },
  {
   "attachments": {
    "image-2.png": {
     "image/png": "[encoded data removed]"
    },
    "image.png": {
     "image/png": "[encoded data removed]"
    }
   },
   "cell_type": "markdown",
   "metadata": {},
   "source": [
    "# Выводы\n",
    "Подходы 1 и 3 имеют одинаковую идею с урезанием количества собственных чисел и векторов, соответственно, приближают исходную матрицу матрицей меньшего ранга.\n",
    "\n",
    "Подход 2 выражается формулой ![image.png](attachment:image.png)\n",
    "Соответственно, минимизируется функционал ![image-2.png](attachment:image-2.png)\n",
    "\n",
    "В итоге подход 2 имеет mse/rmse ниже, если в подходах 1 и 3 $\\hat R $=$ U V$ без матрицы $\\Sigma$. В случае же использования полноценной формулы, mse/rmse подходов 1 и 3 ниже, а подход 2 требует более внимательного подбора параметров.\n",
    "\n",
    "Истинная обобщающая способность данных подходов остаётся под вопросом :/"
   ]
  }
 ],
 "metadata": {
  "kernelspec": {
   "display_name": "Python 3 (ipykernel)",
   "language": "python",
   "name": "python3"
  },
  "language_info": {
   "codemirror_mode": {
    "name": "ipython",
    "version": 3
   },
   "file_extension": ".py",
   "mimetype": "text/x-python",
   "name": "python",
   "nbconvert_exporter": "python",
   "pygments_lexer": "ipython3",
   "version": "3.9.13"
  }
 },
 "nbformat": 4,
 "nbformat_minor": 2
}
